{
 "cells": [
  {
   "cell_type": "markdown",
   "metadata": {},
   "source": [
    "# Project 4A: West Nile Virus presence analysis"
   ]
  },
  {
   "cell_type": "markdown",
   "metadata": {},
   "source": [
    "## Problem Statement"
   ]
  },
  {
   "cell_type": "markdown",
   "metadata": {},
   "source": [
    "Around the continental United States (US), the West Nile virus (WNV) is the leading mosquito-borne disease. Between 1999 to 2019, the yearly average number of WNV cases identified was around 2,500, with an average mortality rate of 5% [[1]](https://www.cdc.gov/westnile/statsmaps/cumMapsData.html).\n",
    "As data scientists for the Chicago Department of Public Health (CDPH), we are seeking to create a classification model that predicts whether WNV will be present for a particular species of mosquito given the weather and location. This analysis is for the purpose of allocating CDPH resources more efficiently and effectively to combat and prevent the transmission of the WNV.\n",
    "The team will explore the use of logistic regression, k-nearest neighbours, and random forest for the prediction of WNV in the mosquito populations.\n",
    "As we are seeking to reduce the transmission of the disease, the model's success will be evaluated based on its F1 score, as we are looking to balance the number of false negatives and positives in order to make sure no resources are wasted while also ensuring that no clusters are missed out."
   ]
  },
  {
   "cell_type": "markdown",
   "metadata": {},
   "source": [
    "### Overall Contents:\n",
    "- [Background](#1.-Background) **(In this notebook)**\n",
    "- [Data Cleaning](#2.-Data-Cleaning) **(In this notebook)**\n",
    "- Exploratory Data Analysis\n",
    "- Modeling 1 Logistic Regression\n",
    "- Modeling 2 k-Nearest Neighbours\n",
    "- Modeling 3 Random Forest\n",
    "- Evaluation\n",
    "- Conclusion and Recommendation"
   ]
  },
  {
   "cell_type": "markdown",
   "metadata": {},
   "source": [
    "## 1. Background"
   ]
  },
  {
   "cell_type": "markdown",
   "metadata": {},
   "source": [
    "West Nile Virus(WNV) is a mosquito borne arbovirus that was first introduced in United States in 1999. It has became the most common virus transmitted by mosquitos (mainly *Culex* species) from infected bird to human in the U.S. with a mortality rate of 5% of reported cases[[1]](https://www.cdc.gov/westnile/statsmaps/cumMapsData.html)[[2]](https://us.biogents.com/house-mosquitoes/). Around 80% of the infected people does not display any symptoms while the 20% who are infected will develop West nile fever or lead to severe disease which are neuroinvasive disease [[3]](https://www.who.int/news-room/fact-sheets/detail/west-nile-virus). There are currently no vaccine available for humans and treatment is supportive for patients who developed neuroinvasive disease[[3]](https://www.who.int/news-room/fact-sheets/detail/west-nile-virus). Thus, the ways to reduce this spread is to raise awareness of prevention measures, implement mosquito surveillance and control programs in at-risk areas. [[4]](https://www.vdci.net/vector-borne-diseases/west-nile-virus-education-and-mosquito-management-to-protect-public-health/)\n",
    "\n",
    "In Chicago, the first human case with wnv virus was reported in 2002 with 22 fatalities [[5]](https://www.chicago.gov/dam/city/depts/cdph/comm_dis/general/Communicable_Disease/CD_CDInfo_Jun07_WNV.pdf). As a preventive measure of this WNV outbreak, Chicago Department for Public Health (CDPH) has set up a surveillance and control program that includes annual spraying in 2004.[[6]](https://www.govtech.com/analytics/chicago-turns-to-predictive-analytics-to-map-west-nile-threat.html). In order to spray areas having WNV-carrying mosquitoes, a predictive model is required. As data scientists for CDPH, we are seeking to create a classification model that predicts whether WNV will be present for a particular species of mosquito given the weather and location. The team will explore the use of logistic regression, k-nearest neighbours, and random forest for the prediction of WNV in the mosquito populations. As we are seeking to reduce the transmission of the disease and allocating CDPH resources more efficiently and effectively, the model's success will be evaluated based on its F1 score. This will allow us to balance the number of false negatives and positives in order to make sure no resources are wasted while also ensuring that no clusters are missed out."
   ]
  },
  {
   "cell_type": "markdown",
   "metadata": {},
   "source": [
    "### 1.1 Datasets\n",
    "\n",
    "The dataset contains the weather, location, testing and spraying in the City of Chicago.The data source below are obtained from [kaggle](https://www.kaggle.com/c/predict-west-nile-virus/data).\n",
    "\n",
    "The datasets obtained are as followed:-\n",
    "\n",
    "* train_df (2007, 2009, 2011, 2013)\n",
    "* spray_df (2011 to 2013)\n",
    "* weather_df (2007 to 2014)\n",
    "* test_df (2008, 2010, 2012, 2014)"
   ]
  },
  {
   "cell_type": "markdown",
   "metadata": {},
   "source": [
    "## 2. Data Cleaning"
   ]
  },
  {
   "cell_type": "markdown",
   "metadata": {},
   "source": [
    "### 2.1 Libraries Import"
   ]
  },
  {
   "cell_type": "code",
   "execution_count": 1,
   "metadata": {},
   "outputs": [],
   "source": [
    "# Imports:\n",
    "import pandas as pd\n",
    "import numpy as np\n",
    "import matplotlib.pyplot as plt\n",
    "\n",
    "# Maximum display of columns\n",
    "pd.options.display.max_colwidth = 400\n",
    "pd.options.display.max_rows = 400"
   ]
  },
  {
   "cell_type": "markdown",
   "metadata": {},
   "source": [
    "### 2.2 Data Import"
   ]
  },
  {
   "cell_type": "code",
   "execution_count": 2,
   "metadata": {},
   "outputs": [],
   "source": [
    "# Import data of train, weather, spray and test from csv\n",
    "train_df = pd.read_csv('../assets/train.csv')\n",
    "weather_df = pd.read_csv(\"../assets/weather.csv\")\n",
    "spray_df = pd.read_csv('../assets/spray.csv')\n",
    "test_df = pd.read_csv(\"../assets/test.csv\")\n",
    "mapdata = np.loadtxt(\"../assets/mapdata_copyright_openstreetmap_contributors.txt\")"
   ]
  },
  {
   "cell_type": "markdown",
   "metadata": {},
   "source": [
    "### 2.3 Data Cleaning"
   ]
  },
  {
   "cell_type": "markdown",
   "metadata": {},
   "source": [
    "### 2.3.1 Overview"
   ]
  },
  {
   "cell_type": "code",
   "execution_count": 3,
   "metadata": {},
   "outputs": [
    {
     "data": {
      "text/html": [
       "<div>\n",
       "<style scoped>\n",
       "    .dataframe tbody tr th:only-of-type {\n",
       "        vertical-align: middle;\n",
       "    }\n",
       "\n",
       "    .dataframe tbody tr th {\n",
       "        vertical-align: top;\n",
       "    }\n",
       "\n",
       "    .dataframe thead th {\n",
       "        text-align: right;\n",
       "    }\n",
       "</style>\n",
       "<table border=\"1\" class=\"dataframe\">\n",
       "  <thead>\n",
       "    <tr style=\"text-align: right;\">\n",
       "      <th></th>\n",
       "      <th>Date</th>\n",
       "      <th>Address</th>\n",
       "      <th>Species</th>\n",
       "      <th>Block</th>\n",
       "      <th>Street</th>\n",
       "      <th>Trap</th>\n",
       "      <th>AddressNumberAndStreet</th>\n",
       "      <th>Latitude</th>\n",
       "      <th>Longitude</th>\n",
       "      <th>AddressAccuracy</th>\n",
       "      <th>NumMosquitos</th>\n",
       "      <th>WnvPresent</th>\n",
       "    </tr>\n",
       "  </thead>\n",
       "  <tbody>\n",
       "    <tr>\n",
       "      <th>0</th>\n",
       "      <td>2007-05-29</td>\n",
       "      <td>4100 North Oak Park Avenue, Chicago, IL 60634, USA</td>\n",
       "      <td>CULEX PIPIENS/RESTUANS</td>\n",
       "      <td>41</td>\n",
       "      <td>N OAK PARK AVE</td>\n",
       "      <td>T002</td>\n",
       "      <td>4100  N OAK PARK AVE, Chicago, IL</td>\n",
       "      <td>41.954690</td>\n",
       "      <td>-87.800991</td>\n",
       "      <td>9</td>\n",
       "      <td>1</td>\n",
       "      <td>0</td>\n",
       "    </tr>\n",
       "    <tr>\n",
       "      <th>1</th>\n",
       "      <td>2007-05-29</td>\n",
       "      <td>4100 North Oak Park Avenue, Chicago, IL 60634, USA</td>\n",
       "      <td>CULEX RESTUANS</td>\n",
       "      <td>41</td>\n",
       "      <td>N OAK PARK AVE</td>\n",
       "      <td>T002</td>\n",
       "      <td>4100  N OAK PARK AVE, Chicago, IL</td>\n",
       "      <td>41.954690</td>\n",
       "      <td>-87.800991</td>\n",
       "      <td>9</td>\n",
       "      <td>1</td>\n",
       "      <td>0</td>\n",
       "    </tr>\n",
       "    <tr>\n",
       "      <th>2</th>\n",
       "      <td>2007-05-29</td>\n",
       "      <td>6200 North Mandell Avenue, Chicago, IL 60646, USA</td>\n",
       "      <td>CULEX RESTUANS</td>\n",
       "      <td>62</td>\n",
       "      <td>N MANDELL AVE</td>\n",
       "      <td>T007</td>\n",
       "      <td>6200  N MANDELL AVE, Chicago, IL</td>\n",
       "      <td>41.994991</td>\n",
       "      <td>-87.769279</td>\n",
       "      <td>9</td>\n",
       "      <td>1</td>\n",
       "      <td>0</td>\n",
       "    </tr>\n",
       "    <tr>\n",
       "      <th>3</th>\n",
       "      <td>2007-05-29</td>\n",
       "      <td>7900 West Foster Avenue, Chicago, IL 60656, USA</td>\n",
       "      <td>CULEX PIPIENS/RESTUANS</td>\n",
       "      <td>79</td>\n",
       "      <td>W FOSTER AVE</td>\n",
       "      <td>T015</td>\n",
       "      <td>7900  W FOSTER AVE, Chicago, IL</td>\n",
       "      <td>41.974089</td>\n",
       "      <td>-87.824812</td>\n",
       "      <td>8</td>\n",
       "      <td>1</td>\n",
       "      <td>0</td>\n",
       "    </tr>\n",
       "    <tr>\n",
       "      <th>4</th>\n",
       "      <td>2007-05-29</td>\n",
       "      <td>7900 West Foster Avenue, Chicago, IL 60656, USA</td>\n",
       "      <td>CULEX RESTUANS</td>\n",
       "      <td>79</td>\n",
       "      <td>W FOSTER AVE</td>\n",
       "      <td>T015</td>\n",
       "      <td>7900  W FOSTER AVE, Chicago, IL</td>\n",
       "      <td>41.974089</td>\n",
       "      <td>-87.824812</td>\n",
       "      <td>8</td>\n",
       "      <td>4</td>\n",
       "      <td>0</td>\n",
       "    </tr>\n",
       "  </tbody>\n",
       "</table>\n",
       "</div>"
      ],
      "text/plain": [
       "         Date                                             Address  \\\n",
       "0  2007-05-29  4100 North Oak Park Avenue, Chicago, IL 60634, USA   \n",
       "1  2007-05-29  4100 North Oak Park Avenue, Chicago, IL 60634, USA   \n",
       "2  2007-05-29   6200 North Mandell Avenue, Chicago, IL 60646, USA   \n",
       "3  2007-05-29     7900 West Foster Avenue, Chicago, IL 60656, USA   \n",
       "4  2007-05-29     7900 West Foster Avenue, Chicago, IL 60656, USA   \n",
       "\n",
       "                  Species  Block           Street  Trap  \\\n",
       "0  CULEX PIPIENS/RESTUANS     41   N OAK PARK AVE  T002   \n",
       "1          CULEX RESTUANS     41   N OAK PARK AVE  T002   \n",
       "2          CULEX RESTUANS     62    N MANDELL AVE  T007   \n",
       "3  CULEX PIPIENS/RESTUANS     79     W FOSTER AVE  T015   \n",
       "4          CULEX RESTUANS     79     W FOSTER AVE  T015   \n",
       "\n",
       "              AddressNumberAndStreet   Latitude  Longitude  AddressAccuracy  \\\n",
       "0  4100  N OAK PARK AVE, Chicago, IL  41.954690 -87.800991                9   \n",
       "1  4100  N OAK PARK AVE, Chicago, IL  41.954690 -87.800991                9   \n",
       "2   6200  N MANDELL AVE, Chicago, IL  41.994991 -87.769279                9   \n",
       "3    7900  W FOSTER AVE, Chicago, IL  41.974089 -87.824812                8   \n",
       "4    7900  W FOSTER AVE, Chicago, IL  41.974089 -87.824812                8   \n",
       "\n",
       "   NumMosquitos  WnvPresent  \n",
       "0             1           0  \n",
       "1             1           0  \n",
       "2             1           0  \n",
       "3             1           0  \n",
       "4             4           0  "
      ]
     },
     "execution_count": 3,
     "metadata": {},
     "output_type": "execute_result"
    }
   ],
   "source": [
    "# Header of train_data\n",
    "train_df.head()"
   ]
  },
  {
   "cell_type": "code",
   "execution_count": 4,
   "metadata": {
    "scrolled": true
   },
   "outputs": [
    {
     "data": {
      "text/html": [
       "<div>\n",
       "<style scoped>\n",
       "    .dataframe tbody tr th:only-of-type {\n",
       "        vertical-align: middle;\n",
       "    }\n",
       "\n",
       "    .dataframe tbody tr th {\n",
       "        vertical-align: top;\n",
       "    }\n",
       "\n",
       "    .dataframe thead th {\n",
       "        text-align: right;\n",
       "    }\n",
       "</style>\n",
       "<table border=\"1\" class=\"dataframe\">\n",
       "  <thead>\n",
       "    <tr style=\"text-align: right;\">\n",
       "      <th></th>\n",
       "      <th>Station</th>\n",
       "      <th>Date</th>\n",
       "      <th>Tmax</th>\n",
       "      <th>Tmin</th>\n",
       "      <th>Tavg</th>\n",
       "      <th>Depart</th>\n",
       "      <th>DewPoint</th>\n",
       "      <th>WetBulb</th>\n",
       "      <th>Heat</th>\n",
       "      <th>Cool</th>\n",
       "      <th>...</th>\n",
       "      <th>CodeSum</th>\n",
       "      <th>Depth</th>\n",
       "      <th>Water1</th>\n",
       "      <th>SnowFall</th>\n",
       "      <th>PrecipTotal</th>\n",
       "      <th>StnPressure</th>\n",
       "      <th>SeaLevel</th>\n",
       "      <th>ResultSpeed</th>\n",
       "      <th>ResultDir</th>\n",
       "      <th>AvgSpeed</th>\n",
       "    </tr>\n",
       "  </thead>\n",
       "  <tbody>\n",
       "    <tr>\n",
       "      <th>0</th>\n",
       "      <td>1</td>\n",
       "      <td>2007-05-01</td>\n",
       "      <td>83</td>\n",
       "      <td>50</td>\n",
       "      <td>67</td>\n",
       "      <td>14</td>\n",
       "      <td>51</td>\n",
       "      <td>56</td>\n",
       "      <td>0</td>\n",
       "      <td>2</td>\n",
       "      <td>...</td>\n",
       "      <td></td>\n",
       "      <td>0</td>\n",
       "      <td>M</td>\n",
       "      <td>0.0</td>\n",
       "      <td>0.00</td>\n",
       "      <td>29.10</td>\n",
       "      <td>29.82</td>\n",
       "      <td>1.7</td>\n",
       "      <td>27</td>\n",
       "      <td>9.2</td>\n",
       "    </tr>\n",
       "    <tr>\n",
       "      <th>1</th>\n",
       "      <td>2</td>\n",
       "      <td>2007-05-01</td>\n",
       "      <td>84</td>\n",
       "      <td>52</td>\n",
       "      <td>68</td>\n",
       "      <td>M</td>\n",
       "      <td>51</td>\n",
       "      <td>57</td>\n",
       "      <td>0</td>\n",
       "      <td>3</td>\n",
       "      <td>...</td>\n",
       "      <td></td>\n",
       "      <td>M</td>\n",
       "      <td>M</td>\n",
       "      <td>M</td>\n",
       "      <td>0.00</td>\n",
       "      <td>29.18</td>\n",
       "      <td>29.82</td>\n",
       "      <td>2.7</td>\n",
       "      <td>25</td>\n",
       "      <td>9.6</td>\n",
       "    </tr>\n",
       "    <tr>\n",
       "      <th>2</th>\n",
       "      <td>1</td>\n",
       "      <td>2007-05-02</td>\n",
       "      <td>59</td>\n",
       "      <td>42</td>\n",
       "      <td>51</td>\n",
       "      <td>-3</td>\n",
       "      <td>42</td>\n",
       "      <td>47</td>\n",
       "      <td>14</td>\n",
       "      <td>0</td>\n",
       "      <td>...</td>\n",
       "      <td>BR</td>\n",
       "      <td>0</td>\n",
       "      <td>M</td>\n",
       "      <td>0.0</td>\n",
       "      <td>0.00</td>\n",
       "      <td>29.38</td>\n",
       "      <td>30.09</td>\n",
       "      <td>13.0</td>\n",
       "      <td>4</td>\n",
       "      <td>13.4</td>\n",
       "    </tr>\n",
       "    <tr>\n",
       "      <th>3</th>\n",
       "      <td>2</td>\n",
       "      <td>2007-05-02</td>\n",
       "      <td>60</td>\n",
       "      <td>43</td>\n",
       "      <td>52</td>\n",
       "      <td>M</td>\n",
       "      <td>42</td>\n",
       "      <td>47</td>\n",
       "      <td>13</td>\n",
       "      <td>0</td>\n",
       "      <td>...</td>\n",
       "      <td>BR HZ</td>\n",
       "      <td>M</td>\n",
       "      <td>M</td>\n",
       "      <td>M</td>\n",
       "      <td>0.00</td>\n",
       "      <td>29.44</td>\n",
       "      <td>30.08</td>\n",
       "      <td>13.3</td>\n",
       "      <td>2</td>\n",
       "      <td>13.4</td>\n",
       "    </tr>\n",
       "    <tr>\n",
       "      <th>4</th>\n",
       "      <td>1</td>\n",
       "      <td>2007-05-03</td>\n",
       "      <td>66</td>\n",
       "      <td>46</td>\n",
       "      <td>56</td>\n",
       "      <td>2</td>\n",
       "      <td>40</td>\n",
       "      <td>48</td>\n",
       "      <td>9</td>\n",
       "      <td>0</td>\n",
       "      <td>...</td>\n",
       "      <td></td>\n",
       "      <td>0</td>\n",
       "      <td>M</td>\n",
       "      <td>0.0</td>\n",
       "      <td>0.00</td>\n",
       "      <td>29.39</td>\n",
       "      <td>30.12</td>\n",
       "      <td>11.7</td>\n",
       "      <td>7</td>\n",
       "      <td>11.9</td>\n",
       "    </tr>\n",
       "  </tbody>\n",
       "</table>\n",
       "<p>5 rows × 22 columns</p>\n",
       "</div>"
      ],
      "text/plain": [
       "   Station        Date  Tmax  Tmin Tavg Depart  DewPoint WetBulb Heat Cool  \\\n",
       "0        1  2007-05-01    83    50   67     14        51      56    0    2   \n",
       "1        2  2007-05-01    84    52   68      M        51      57    0    3   \n",
       "2        1  2007-05-02    59    42   51     -3        42      47   14    0   \n",
       "3        2  2007-05-02    60    43   52      M        42      47   13    0   \n",
       "4        1  2007-05-03    66    46   56      2        40      48    9    0   \n",
       "\n",
       "   ... CodeSum Depth Water1 SnowFall PrecipTotal StnPressure SeaLevel  \\\n",
       "0  ...             0      M      0.0        0.00       29.10    29.82   \n",
       "1  ...             M      M        M        0.00       29.18    29.82   \n",
       "2  ...      BR     0      M      0.0        0.00       29.38    30.09   \n",
       "3  ...   BR HZ     M      M        M        0.00       29.44    30.08   \n",
       "4  ...             0      M      0.0        0.00       29.39    30.12   \n",
       "\n",
       "  ResultSpeed ResultDir  AvgSpeed  \n",
       "0         1.7        27       9.2  \n",
       "1         2.7        25       9.6  \n",
       "2        13.0         4      13.4  \n",
       "3        13.3         2      13.4  \n",
       "4        11.7         7      11.9  \n",
       "\n",
       "[5 rows x 22 columns]"
      ]
     },
     "execution_count": 4,
     "metadata": {},
     "output_type": "execute_result"
    }
   ],
   "source": [
    "# Header of weather data\n",
    "weather_df.head()"
   ]
  },
  {
   "cell_type": "code",
   "execution_count": 5,
   "metadata": {},
   "outputs": [
    {
     "data": {
      "text/html": [
       "<div>\n",
       "<style scoped>\n",
       "    .dataframe tbody tr th:only-of-type {\n",
       "        vertical-align: middle;\n",
       "    }\n",
       "\n",
       "    .dataframe tbody tr th {\n",
       "        vertical-align: top;\n",
       "    }\n",
       "\n",
       "    .dataframe thead th {\n",
       "        text-align: right;\n",
       "    }\n",
       "</style>\n",
       "<table border=\"1\" class=\"dataframe\">\n",
       "  <thead>\n",
       "    <tr style=\"text-align: right;\">\n",
       "      <th></th>\n",
       "      <th>Date</th>\n",
       "      <th>Time</th>\n",
       "      <th>Latitude</th>\n",
       "      <th>Longitude</th>\n",
       "    </tr>\n",
       "  </thead>\n",
       "  <tbody>\n",
       "    <tr>\n",
       "      <th>0</th>\n",
       "      <td>2011-08-29</td>\n",
       "      <td>6:56:58 PM</td>\n",
       "      <td>42.391623</td>\n",
       "      <td>-88.089163</td>\n",
       "    </tr>\n",
       "    <tr>\n",
       "      <th>1</th>\n",
       "      <td>2011-08-29</td>\n",
       "      <td>6:57:08 PM</td>\n",
       "      <td>42.391348</td>\n",
       "      <td>-88.089163</td>\n",
       "    </tr>\n",
       "    <tr>\n",
       "      <th>2</th>\n",
       "      <td>2011-08-29</td>\n",
       "      <td>6:57:18 PM</td>\n",
       "      <td>42.391022</td>\n",
       "      <td>-88.089157</td>\n",
       "    </tr>\n",
       "    <tr>\n",
       "      <th>3</th>\n",
       "      <td>2011-08-29</td>\n",
       "      <td>6:57:28 PM</td>\n",
       "      <td>42.390637</td>\n",
       "      <td>-88.089158</td>\n",
       "    </tr>\n",
       "    <tr>\n",
       "      <th>4</th>\n",
       "      <td>2011-08-29</td>\n",
       "      <td>6:57:38 PM</td>\n",
       "      <td>42.390410</td>\n",
       "      <td>-88.088858</td>\n",
       "    </tr>\n",
       "  </tbody>\n",
       "</table>\n",
       "</div>"
      ],
      "text/plain": [
       "         Date        Time   Latitude  Longitude\n",
       "0  2011-08-29  6:56:58 PM  42.391623 -88.089163\n",
       "1  2011-08-29  6:57:08 PM  42.391348 -88.089163\n",
       "2  2011-08-29  6:57:18 PM  42.391022 -88.089157\n",
       "3  2011-08-29  6:57:28 PM  42.390637 -88.089158\n",
       "4  2011-08-29  6:57:38 PM  42.390410 -88.088858"
      ]
     },
     "execution_count": 5,
     "metadata": {},
     "output_type": "execute_result"
    }
   ],
   "source": [
    "# Header of spray data\n",
    "spray_df.head()"
   ]
  },
  {
   "cell_type": "code",
   "execution_count": 6,
   "metadata": {},
   "outputs": [
    {
     "data": {
      "text/html": [
       "<div>\n",
       "<style scoped>\n",
       "    .dataframe tbody tr th:only-of-type {\n",
       "        vertical-align: middle;\n",
       "    }\n",
       "\n",
       "    .dataframe tbody tr th {\n",
       "        vertical-align: top;\n",
       "    }\n",
       "\n",
       "    .dataframe thead th {\n",
       "        text-align: right;\n",
       "    }\n",
       "</style>\n",
       "<table border=\"1\" class=\"dataframe\">\n",
       "  <thead>\n",
       "    <tr style=\"text-align: right;\">\n",
       "      <th></th>\n",
       "      <th>Id</th>\n",
       "      <th>Date</th>\n",
       "      <th>Address</th>\n",
       "      <th>Species</th>\n",
       "      <th>Block</th>\n",
       "      <th>Street</th>\n",
       "      <th>Trap</th>\n",
       "      <th>AddressNumberAndStreet</th>\n",
       "      <th>Latitude</th>\n",
       "      <th>Longitude</th>\n",
       "      <th>AddressAccuracy</th>\n",
       "    </tr>\n",
       "  </thead>\n",
       "  <tbody>\n",
       "    <tr>\n",
       "      <th>0</th>\n",
       "      <td>1</td>\n",
       "      <td>2008-06-11</td>\n",
       "      <td>4100 North Oak Park Avenue, Chicago, IL 60634, USA</td>\n",
       "      <td>CULEX PIPIENS/RESTUANS</td>\n",
       "      <td>41</td>\n",
       "      <td>N OAK PARK AVE</td>\n",
       "      <td>T002</td>\n",
       "      <td>4100  N OAK PARK AVE, Chicago, IL</td>\n",
       "      <td>41.95469</td>\n",
       "      <td>-87.800991</td>\n",
       "      <td>9</td>\n",
       "    </tr>\n",
       "    <tr>\n",
       "      <th>1</th>\n",
       "      <td>2</td>\n",
       "      <td>2008-06-11</td>\n",
       "      <td>4100 North Oak Park Avenue, Chicago, IL 60634, USA</td>\n",
       "      <td>CULEX RESTUANS</td>\n",
       "      <td>41</td>\n",
       "      <td>N OAK PARK AVE</td>\n",
       "      <td>T002</td>\n",
       "      <td>4100  N OAK PARK AVE, Chicago, IL</td>\n",
       "      <td>41.95469</td>\n",
       "      <td>-87.800991</td>\n",
       "      <td>9</td>\n",
       "    </tr>\n",
       "    <tr>\n",
       "      <th>2</th>\n",
       "      <td>3</td>\n",
       "      <td>2008-06-11</td>\n",
       "      <td>4100 North Oak Park Avenue, Chicago, IL 60634, USA</td>\n",
       "      <td>CULEX PIPIENS</td>\n",
       "      <td>41</td>\n",
       "      <td>N OAK PARK AVE</td>\n",
       "      <td>T002</td>\n",
       "      <td>4100  N OAK PARK AVE, Chicago, IL</td>\n",
       "      <td>41.95469</td>\n",
       "      <td>-87.800991</td>\n",
       "      <td>9</td>\n",
       "    </tr>\n",
       "    <tr>\n",
       "      <th>3</th>\n",
       "      <td>4</td>\n",
       "      <td>2008-06-11</td>\n",
       "      <td>4100 North Oak Park Avenue, Chicago, IL 60634, USA</td>\n",
       "      <td>CULEX SALINARIUS</td>\n",
       "      <td>41</td>\n",
       "      <td>N OAK PARK AVE</td>\n",
       "      <td>T002</td>\n",
       "      <td>4100  N OAK PARK AVE, Chicago, IL</td>\n",
       "      <td>41.95469</td>\n",
       "      <td>-87.800991</td>\n",
       "      <td>9</td>\n",
       "    </tr>\n",
       "    <tr>\n",
       "      <th>4</th>\n",
       "      <td>5</td>\n",
       "      <td>2008-06-11</td>\n",
       "      <td>4100 North Oak Park Avenue, Chicago, IL 60634, USA</td>\n",
       "      <td>CULEX TERRITANS</td>\n",
       "      <td>41</td>\n",
       "      <td>N OAK PARK AVE</td>\n",
       "      <td>T002</td>\n",
       "      <td>4100  N OAK PARK AVE, Chicago, IL</td>\n",
       "      <td>41.95469</td>\n",
       "      <td>-87.800991</td>\n",
       "      <td>9</td>\n",
       "    </tr>\n",
       "  </tbody>\n",
       "</table>\n",
       "</div>"
      ],
      "text/plain": [
       "   Id        Date                                             Address  \\\n",
       "0   1  2008-06-11  4100 North Oak Park Avenue, Chicago, IL 60634, USA   \n",
       "1   2  2008-06-11  4100 North Oak Park Avenue, Chicago, IL 60634, USA   \n",
       "2   3  2008-06-11  4100 North Oak Park Avenue, Chicago, IL 60634, USA   \n",
       "3   4  2008-06-11  4100 North Oak Park Avenue, Chicago, IL 60634, USA   \n",
       "4   5  2008-06-11  4100 North Oak Park Avenue, Chicago, IL 60634, USA   \n",
       "\n",
       "                  Species  Block           Street  Trap  \\\n",
       "0  CULEX PIPIENS/RESTUANS     41   N OAK PARK AVE  T002   \n",
       "1          CULEX RESTUANS     41   N OAK PARK AVE  T002   \n",
       "2           CULEX PIPIENS     41   N OAK PARK AVE  T002   \n",
       "3        CULEX SALINARIUS     41   N OAK PARK AVE  T002   \n",
       "4         CULEX TERRITANS     41   N OAK PARK AVE  T002   \n",
       "\n",
       "              AddressNumberAndStreet  Latitude  Longitude  AddressAccuracy  \n",
       "0  4100  N OAK PARK AVE, Chicago, IL  41.95469 -87.800991                9  \n",
       "1  4100  N OAK PARK AVE, Chicago, IL  41.95469 -87.800991                9  \n",
       "2  4100  N OAK PARK AVE, Chicago, IL  41.95469 -87.800991                9  \n",
       "3  4100  N OAK PARK AVE, Chicago, IL  41.95469 -87.800991                9  \n",
       "4  4100  N OAK PARK AVE, Chicago, IL  41.95469 -87.800991                9  "
      ]
     },
     "execution_count": 6,
     "metadata": {},
     "output_type": "execute_result"
    }
   ],
   "source": [
    "# Header of test data\n",
    "test_df.head()"
   ]
  },
  {
   "cell_type": "markdown",
   "metadata": {},
   "source": [
    "### 2.3.2 Change column names and values to lower case and drop columns"
   ]
  },
  {
   "cell_type": "markdown",
   "metadata": {},
   "source": [
    "#### 2.3.2.1 Columns names"
   ]
  },
  {
   "cell_type": "code",
   "execution_count": 7,
   "metadata": {},
   "outputs": [],
   "source": [
    "# To change the column names for train, weather, spray and test\n",
    "train_df.columns = train_df.columns.str.lower()\n",
    "weather_df.columns = weather_df.columns.str.lower()\n",
    "spray_df.columns = spray_df.columns.str.lower()\n",
    "test_df.columns = test_df.columns.str.lower()"
   ]
  },
  {
   "cell_type": "markdown",
   "metadata": {},
   "source": [
    "#### 2.3.2.2 Columns values\n",
    "\n",
    "For train_df and test_df, the address, species, street and addressnumberandstreet will be changed to lower case."
   ]
  },
  {
   "cell_type": "code",
   "execution_count": 8,
   "metadata": {},
   "outputs": [],
   "source": [
    "# Train_df\n",
    "train_df.species = train_df.species.str.lower()\n",
    "train_df.addressnumberandstreet = train_df.addressnumberandstreet.str.lower()"
   ]
  },
  {
   "cell_type": "code",
   "execution_count": 9,
   "metadata": {},
   "outputs": [],
   "source": [
    "# Test_df\n",
    "test_df.species = test_df.species.str.lower()\n",
    "test_df.addressnumberandstreet = test_df.addressnumberandstreet.str.lower()"
   ]
  },
  {
   "cell_type": "markdown",
   "metadata": {},
   "source": [
    "#### 2.3.2.3 Drop Columns"
   ]
  },
  {
   "cell_type": "code",
   "execution_count": 10,
   "metadata": {},
   "outputs": [],
   "source": [
    "# # Train_df drop 'address','block','street','trap', 'addressaccuracy'\n",
    "train_df = train_df.drop(['address','block','street','addressaccuracy'], axis = 1)"
   ]
  },
  {
   "cell_type": "code",
   "execution_count": 11,
   "metadata": {},
   "outputs": [],
   "source": [
    "# # Test_df drop 'address','block','street','trap', 'addressaccuracy'\n",
    "test_df = test_df.drop(['id','address','block','street','addressaccuracy'], axis = 1)"
   ]
  },
  {
   "cell_type": "markdown",
   "metadata": {},
   "source": [
    "### 2.3.3 Check for dtypes and missing values"
   ]
  },
  {
   "cell_type": "code",
   "execution_count": 12,
   "metadata": {
    "scrolled": false
   },
   "outputs": [
    {
     "name": "stdout",
     "output_type": "stream",
     "text": [
      "<class 'pandas.core.frame.DataFrame'>\n",
      "RangeIndex: 10506 entries, 0 to 10505\n",
      "Data columns (total 8 columns):\n",
      " #   Column                  Non-Null Count  Dtype  \n",
      "---  ------                  --------------  -----  \n",
      " 0   date                    10506 non-null  object \n",
      " 1   species                 10506 non-null  object \n",
      " 2   trap                    10506 non-null  object \n",
      " 3   addressnumberandstreet  10506 non-null  object \n",
      " 4   latitude                10506 non-null  float64\n",
      " 5   longitude               10506 non-null  float64\n",
      " 6   nummosquitos            10506 non-null  int64  \n",
      " 7   wnvpresent              10506 non-null  int64  \n",
      "dtypes: float64(2), int64(2), object(4)\n",
      "memory usage: 656.8+ KB\n"
     ]
    }
   ],
   "source": [
    "train_df.info()"
   ]
  },
  {
   "cell_type": "markdown",
   "metadata": {},
   "source": [
    "**Analysis: train_data has no missing values with date dtype will be changed to datetime dtype in exploratory data analysis section.**"
   ]
  },
  {
   "cell_type": "code",
   "execution_count": 13,
   "metadata": {
    "scrolled": false
   },
   "outputs": [
    {
     "name": "stdout",
     "output_type": "stream",
     "text": [
      "<class 'pandas.core.frame.DataFrame'>\n",
      "RangeIndex: 2944 entries, 0 to 2943\n",
      "Data columns (total 22 columns):\n",
      " #   Column       Non-Null Count  Dtype  \n",
      "---  ------       --------------  -----  \n",
      " 0   station      2944 non-null   int64  \n",
      " 1   date         2944 non-null   object \n",
      " 2   tmax         2944 non-null   int64  \n",
      " 3   tmin         2944 non-null   int64  \n",
      " 4   tavg         2944 non-null   object \n",
      " 5   depart       2944 non-null   object \n",
      " 6   dewpoint     2944 non-null   int64  \n",
      " 7   wetbulb      2944 non-null   object \n",
      " 8   heat         2944 non-null   object \n",
      " 9   cool         2944 non-null   object \n",
      " 10  sunrise      2944 non-null   object \n",
      " 11  sunset       2944 non-null   object \n",
      " 12  codesum      2944 non-null   object \n",
      " 13  depth        2944 non-null   object \n",
      " 14  water1       2944 non-null   object \n",
      " 15  snowfall     2944 non-null   object \n",
      " 16  preciptotal  2944 non-null   object \n",
      " 17  stnpressure  2944 non-null   object \n",
      " 18  sealevel     2944 non-null   object \n",
      " 19  resultspeed  2944 non-null   float64\n",
      " 20  resultdir    2944 non-null   int64  \n",
      " 21  avgspeed     2944 non-null   object \n",
      "dtypes: float64(1), int64(5), object(16)\n",
      "memory usage: 506.1+ KB\n"
     ]
    }
   ],
   "source": [
    "weather_df.info()"
   ]
  },
  {
   "cell_type": "code",
   "execution_count": 14,
   "metadata": {
    "scrolled": false
   },
   "outputs": [
    {
     "data": {
      "text/plain": [
       "water1         2944\n",
       "snowfall       1472\n",
       "depth          1472\n",
       "depart         1472\n",
       "cool             11\n",
       "heat             11\n",
       "tavg             11\n",
       "sealevel          9\n",
       "stnpressure       4\n",
       "wetbulb           4\n",
       "avgspeed          3\n",
       "preciptotal       2\n",
       "dtype: int64"
      ]
     },
     "execution_count": 14,
     "metadata": {},
     "output_type": "execute_result"
    }
   ],
   "source": [
    "# To check the missing values indicated as 'M'\n",
    "weather_df[weather_df == 'M'].count()[weather_df[weather_df == 'M'].count()>0].sort_values(ascending = False)"
   ]
  },
  {
   "cell_type": "code",
   "execution_count": 15,
   "metadata": {
    "scrolled": false
   },
   "outputs": [
    {
     "data": {
      "text/plain": [
       "sunrise    1472\n",
       "sunset     1472\n",
       "dtype: int64"
      ]
     },
     "execution_count": 15,
     "metadata": {},
     "output_type": "execute_result"
    }
   ],
   "source": [
    "# To check the missing values indicated as '-'\n",
    "weather_df[weather_df == '-'].count()[weather_df[weather_df == '-'].count()>0]"
   ]
  },
  {
   "cell_type": "markdown",
   "metadata": {},
   "source": [
    "**Analysis: weather_data has missing values denoted as 'M' or '-' and there are 14 columns with missing values. The data dtype will be converted to the int/float when handling the missing data. The date dtype will be changed to datetime dtype in exploratory data analysis section.**"
   ]
  },
  {
   "cell_type": "code",
   "execution_count": 16,
   "metadata": {
    "scrolled": false
   },
   "outputs": [
    {
     "name": "stdout",
     "output_type": "stream",
     "text": [
      "<class 'pandas.core.frame.DataFrame'>\n",
      "RangeIndex: 14835 entries, 0 to 14834\n",
      "Data columns (total 4 columns):\n",
      " #   Column     Non-Null Count  Dtype  \n",
      "---  ------     --------------  -----  \n",
      " 0   date       14835 non-null  object \n",
      " 1   time       14251 non-null  object \n",
      " 2   latitude   14835 non-null  float64\n",
      " 3   longitude  14835 non-null  float64\n",
      "dtypes: float64(2), object(2)\n",
      "memory usage: 463.7+ KB\n"
     ]
    }
   ],
   "source": [
    "spray_df.info()"
   ]
  },
  {
   "cell_type": "markdown",
   "metadata": {},
   "source": [
    "**Analysis: time has missing values. The date dtype will be changed to datetime dtype in exploratory data analysis section.**"
   ]
  },
  {
   "cell_type": "code",
   "execution_count": 17,
   "metadata": {
    "scrolled": true
   },
   "outputs": [
    {
     "name": "stdout",
     "output_type": "stream",
     "text": [
      "<class 'pandas.core.frame.DataFrame'>\n",
      "RangeIndex: 116293 entries, 0 to 116292\n",
      "Data columns (total 6 columns):\n",
      " #   Column                  Non-Null Count   Dtype  \n",
      "---  ------                  --------------   -----  \n",
      " 0   date                    116293 non-null  object \n",
      " 1   species                 116293 non-null  object \n",
      " 2   trap                    116293 non-null  object \n",
      " 3   addressnumberandstreet  116293 non-null  object \n",
      " 4   latitude                116293 non-null  float64\n",
      " 5   longitude               116293 non-null  float64\n",
      "dtypes: float64(2), object(4)\n",
      "memory usage: 5.3+ MB\n"
     ]
    }
   ],
   "source": [
    "test_df.info()"
   ]
  },
  {
   "cell_type": "markdown",
   "metadata": {},
   "source": [
    "**Analysis: test_df has no missing values with date dtype will be changed to datetime dtype in exploratory data analysis section.**"
   ]
  },
  {
   "cell_type": "markdown",
   "metadata": {},
   "source": [
    "### 2.3.4 Missing values and dtypes of weather_df"
   ]
  },
  {
   "cell_type": "markdown",
   "metadata": {},
   "source": [
    "### 2.3.4.1 tavg\n",
    "\n",
    "Average temperature is the average of maximum (tmax) and minimum (tmin) temperature."
   ]
  },
  {
   "cell_type": "code",
   "execution_count": 18,
   "metadata": {
    "scrolled": false
   },
   "outputs": [
    {
     "data": {
      "text/html": [
       "<div>\n",
       "<style scoped>\n",
       "    .dataframe tbody tr th:only-of-type {\n",
       "        vertical-align: middle;\n",
       "    }\n",
       "\n",
       "    .dataframe tbody tr th {\n",
       "        vertical-align: top;\n",
       "    }\n",
       "\n",
       "    .dataframe thead th {\n",
       "        text-align: right;\n",
       "    }\n",
       "</style>\n",
       "<table border=\"1\" class=\"dataframe\">\n",
       "  <thead>\n",
       "    <tr style=\"text-align: right;\">\n",
       "      <th></th>\n",
       "      <th>station</th>\n",
       "      <th>date</th>\n",
       "      <th>tmax</th>\n",
       "      <th>tmin</th>\n",
       "      <th>tavg</th>\n",
       "      <th>depart</th>\n",
       "      <th>dewpoint</th>\n",
       "      <th>wetbulb</th>\n",
       "      <th>heat</th>\n",
       "      <th>cool</th>\n",
       "      <th>...</th>\n",
       "      <th>codesum</th>\n",
       "      <th>depth</th>\n",
       "      <th>water1</th>\n",
       "      <th>snowfall</th>\n",
       "      <th>preciptotal</th>\n",
       "      <th>stnpressure</th>\n",
       "      <th>sealevel</th>\n",
       "      <th>resultspeed</th>\n",
       "      <th>resultdir</th>\n",
       "      <th>avgspeed</th>\n",
       "    </tr>\n",
       "  </thead>\n",
       "  <tbody>\n",
       "    <tr>\n",
       "      <th>7</th>\n",
       "      <td>2</td>\n",
       "      <td>2007-05-04</td>\n",
       "      <td>78</td>\n",
       "      <td>51</td>\n",
       "      <td>M</td>\n",
       "      <td>M</td>\n",
       "      <td>42</td>\n",
       "      <td>50</td>\n",
       "      <td>M</td>\n",
       "      <td>M</td>\n",
       "      <td>...</td>\n",
       "      <td></td>\n",
       "      <td>M</td>\n",
       "      <td>M</td>\n",
       "      <td>M</td>\n",
       "      <td>0.00</td>\n",
       "      <td>29.36</td>\n",
       "      <td>30.04</td>\n",
       "      <td>10.1</td>\n",
       "      <td>7</td>\n",
       "      <td>10.4</td>\n",
       "    </tr>\n",
       "    <tr>\n",
       "      <th>505</th>\n",
       "      <td>2</td>\n",
       "      <td>2008-07-08</td>\n",
       "      <td>86</td>\n",
       "      <td>46</td>\n",
       "      <td>M</td>\n",
       "      <td>M</td>\n",
       "      <td>68</td>\n",
       "      <td>71</td>\n",
       "      <td>M</td>\n",
       "      <td>M</td>\n",
       "      <td>...</td>\n",
       "      <td>TS RA</td>\n",
       "      <td>M</td>\n",
       "      <td>M</td>\n",
       "      <td>M</td>\n",
       "      <td>0.28</td>\n",
       "      <td>29.16</td>\n",
       "      <td>29.80</td>\n",
       "      <td>7.4</td>\n",
       "      <td>24</td>\n",
       "      <td>8.3</td>\n",
       "    </tr>\n",
       "    <tr>\n",
       "      <th>675</th>\n",
       "      <td>2</td>\n",
       "      <td>2008-10-01</td>\n",
       "      <td>62</td>\n",
       "      <td>46</td>\n",
       "      <td>M</td>\n",
       "      <td>M</td>\n",
       "      <td>41</td>\n",
       "      <td>47</td>\n",
       "      <td>M</td>\n",
       "      <td>M</td>\n",
       "      <td>...</td>\n",
       "      <td></td>\n",
       "      <td>M</td>\n",
       "      <td>M</td>\n",
       "      <td>M</td>\n",
       "      <td>0.00</td>\n",
       "      <td>29.30</td>\n",
       "      <td>29.96</td>\n",
       "      <td>10.9</td>\n",
       "      <td>33</td>\n",
       "      <td>11.0</td>\n",
       "    </tr>\n",
       "    <tr>\n",
       "      <th>1637</th>\n",
       "      <td>2</td>\n",
       "      <td>2011-07-22</td>\n",
       "      <td>100</td>\n",
       "      <td>71</td>\n",
       "      <td>M</td>\n",
       "      <td>M</td>\n",
       "      <td>70</td>\n",
       "      <td>74</td>\n",
       "      <td>M</td>\n",
       "      <td>M</td>\n",
       "      <td>...</td>\n",
       "      <td>TS TSRA BR</td>\n",
       "      <td>M</td>\n",
       "      <td>M</td>\n",
       "      <td>M</td>\n",
       "      <td>0.14</td>\n",
       "      <td>29.23</td>\n",
       "      <td>29.86</td>\n",
       "      <td>3.8</td>\n",
       "      <td>10</td>\n",
       "      <td>8.2</td>\n",
       "    </tr>\n",
       "    <tr>\n",
       "      <th>2067</th>\n",
       "      <td>2</td>\n",
       "      <td>2012-08-22</td>\n",
       "      <td>84</td>\n",
       "      <td>72</td>\n",
       "      <td>M</td>\n",
       "      <td>M</td>\n",
       "      <td>51</td>\n",
       "      <td>61</td>\n",
       "      <td>M</td>\n",
       "      <td>M</td>\n",
       "      <td>...</td>\n",
       "      <td></td>\n",
       "      <td>M</td>\n",
       "      <td>M</td>\n",
       "      <td>M</td>\n",
       "      <td>0.00</td>\n",
       "      <td>29.39</td>\n",
       "      <td>M</td>\n",
       "      <td>4.7</td>\n",
       "      <td>19</td>\n",
       "      <td>M</td>\n",
       "    </tr>\n",
       "  </tbody>\n",
       "</table>\n",
       "<p>5 rows × 22 columns</p>\n",
       "</div>"
      ],
      "text/plain": [
       "      station        date  tmax  tmin tavg depart  dewpoint wetbulb heat cool  \\\n",
       "7           2  2007-05-04    78    51    M      M        42      50    M    M   \n",
       "505         2  2008-07-08    86    46    M      M        68      71    M    M   \n",
       "675         2  2008-10-01    62    46    M      M        41      47    M    M   \n",
       "1637        2  2011-07-22   100    71    M      M        70      74    M    M   \n",
       "2067        2  2012-08-22    84    72    M      M        51      61    M    M   \n",
       "\n",
       "      ...     codesum depth water1 snowfall preciptotal stnpressure sealevel  \\\n",
       "7     ...                 M      M        M        0.00       29.36    30.04   \n",
       "505   ...       TS RA     M      M        M        0.28       29.16    29.80   \n",
       "675   ...                 M      M        M        0.00       29.30    29.96   \n",
       "1637  ...  TS TSRA BR     M      M        M        0.14       29.23    29.86   \n",
       "2067  ...                 M      M        M        0.00       29.39        M   \n",
       "\n",
       "     resultspeed resultdir  avgspeed  \n",
       "7           10.1         7      10.4  \n",
       "505          7.4        24       8.3  \n",
       "675         10.9        33      11.0  \n",
       "1637         3.8        10       8.2  \n",
       "2067         4.7        19         M  \n",
       "\n",
       "[5 rows x 22 columns]"
      ]
     },
     "execution_count": 18,
     "metadata": {},
     "output_type": "execute_result"
    }
   ],
   "source": [
    "# To check the missing values of tavg\n",
    "weather_df[weather_df.tavg == 'M'].head()"
   ]
  },
  {
   "cell_type": "code",
   "execution_count": 19,
   "metadata": {},
   "outputs": [],
   "source": [
    "# To calculate the average of tmax and tmin for tavg\n",
    "for index, average in enumerate (weather_df.tavg):\n",
    "    if average == 'M':\n",
    "        weather_df.loc[[index], [\"tavg\"]] = np.ceil((weather_df.tmax[index] + weather_df.tmin[index])/2)"
   ]
  },
  {
   "cell_type": "code",
   "execution_count": 20,
   "metadata": {
    "scrolled": true
   },
   "outputs": [
    {
     "data": {
      "text/html": [
       "<div>\n",
       "<style scoped>\n",
       "    .dataframe tbody tr th:only-of-type {\n",
       "        vertical-align: middle;\n",
       "    }\n",
       "\n",
       "    .dataframe tbody tr th {\n",
       "        vertical-align: top;\n",
       "    }\n",
       "\n",
       "    .dataframe thead th {\n",
       "        text-align: right;\n",
       "    }\n",
       "</style>\n",
       "<table border=\"1\" class=\"dataframe\">\n",
       "  <thead>\n",
       "    <tr style=\"text-align: right;\">\n",
       "      <th></th>\n",
       "      <th>tmax</th>\n",
       "      <th>tmin</th>\n",
       "      <th>tavg</th>\n",
       "    </tr>\n",
       "  </thead>\n",
       "  <tbody>\n",
       "    <tr>\n",
       "      <th>7</th>\n",
       "      <td>78</td>\n",
       "      <td>51</td>\n",
       "      <td>65</td>\n",
       "    </tr>\n",
       "    <tr>\n",
       "      <th>505</th>\n",
       "      <td>86</td>\n",
       "      <td>46</td>\n",
       "      <td>66</td>\n",
       "    </tr>\n",
       "    <tr>\n",
       "      <th>675</th>\n",
       "      <td>62</td>\n",
       "      <td>46</td>\n",
       "      <td>54</td>\n",
       "    </tr>\n",
       "    <tr>\n",
       "      <th>1637</th>\n",
       "      <td>100</td>\n",
       "      <td>71</td>\n",
       "      <td>86</td>\n",
       "    </tr>\n",
       "    <tr>\n",
       "      <th>2067</th>\n",
       "      <td>84</td>\n",
       "      <td>72</td>\n",
       "      <td>78</td>\n",
       "    </tr>\n",
       "    <tr>\n",
       "      <th>2211</th>\n",
       "      <td>71</td>\n",
       "      <td>42</td>\n",
       "      <td>57</td>\n",
       "    </tr>\n",
       "    <tr>\n",
       "      <th>2501</th>\n",
       "      <td>91</td>\n",
       "      <td>52</td>\n",
       "      <td>72</td>\n",
       "    </tr>\n",
       "    <tr>\n",
       "      <th>2511</th>\n",
       "      <td>84</td>\n",
       "      <td>53</td>\n",
       "      <td>69</td>\n",
       "    </tr>\n",
       "    <tr>\n",
       "      <th>2525</th>\n",
       "      <td>76</td>\n",
       "      <td>48</td>\n",
       "      <td>62</td>\n",
       "    </tr>\n",
       "    <tr>\n",
       "      <th>2579</th>\n",
       "      <td>80</td>\n",
       "      <td>47</td>\n",
       "      <td>64</td>\n",
       "    </tr>\n",
       "    <tr>\n",
       "      <th>2811</th>\n",
       "      <td>86</td>\n",
       "      <td>49</td>\n",
       "      <td>68</td>\n",
       "    </tr>\n",
       "  </tbody>\n",
       "</table>\n",
       "</div>"
      ],
      "text/plain": [
       "      tmax  tmin tavg\n",
       "7       78    51   65\n",
       "505     86    46   66\n",
       "675     62    46   54\n",
       "1637   100    71   86\n",
       "2067    84    72   78\n",
       "2211    71    42   57\n",
       "2501    91    52   72\n",
       "2511    84    53   69\n",
       "2525    76    48   62\n",
       "2579    80    47   64\n",
       "2811    86    49   68"
      ]
     },
     "execution_count": 20,
     "metadata": {},
     "output_type": "execute_result"
    }
   ],
   "source": [
    "# To check the calculated tavg of the missing values\n",
    "weather_df.loc[[7, 505, 675, 1637, 2067, 2211, 2501, 2511, 2525, 2579, 2811], [\"tmax\", 'tmin', 'tavg']]"
   ]
  },
  {
   "cell_type": "code",
   "execution_count": 21,
   "metadata": {},
   "outputs": [
    {
     "name": "stdout",
     "output_type": "stream",
     "text": [
      "The dtype of tavg is : int32.\n"
     ]
    }
   ],
   "source": [
    "# Convert tavg dtype to int\n",
    "weather_df.tavg = weather_df.tavg.astype(int)\n",
    "print(f\"The dtype of tavg is : {weather_df.tavg.dtype}.\")"
   ]
  },
  {
   "cell_type": "markdown",
   "metadata": {},
   "source": [
    "### 2.3.4.2 heat and cool\n",
    "\n",
    "The degree days: base is 65&deg;F. \n",
    "- If the temperature average is above 65&deg;F, subtract 65&deg;F from the mean and it is cool.\n",
    "- If the temperature average is below 65&deg;F, subtract mean from 65&deg;F and it is heat. [[7]](https://www.weather.gov/key/climate_heat_cool#:~:text=If%20the%20temperature%20mean%20is,result%20is%20Heating%20Degree%20Days.&text=Because%20the%20result%20is%20below,F%20%3D%2036%20Heating%20Degree%20Days.)"
   ]
  },
  {
   "cell_type": "code",
   "execution_count": 22,
   "metadata": {},
   "outputs": [
    {
     "data": {
      "text/html": [
       "<div>\n",
       "<style scoped>\n",
       "    .dataframe tbody tr th:only-of-type {\n",
       "        vertical-align: middle;\n",
       "    }\n",
       "\n",
       "    .dataframe tbody tr th {\n",
       "        vertical-align: top;\n",
       "    }\n",
       "\n",
       "    .dataframe thead th {\n",
       "        text-align: right;\n",
       "    }\n",
       "</style>\n",
       "<table border=\"1\" class=\"dataframe\">\n",
       "  <thead>\n",
       "    <tr style=\"text-align: right;\">\n",
       "      <th></th>\n",
       "      <th>station</th>\n",
       "      <th>date</th>\n",
       "      <th>tmax</th>\n",
       "      <th>tmin</th>\n",
       "      <th>tavg</th>\n",
       "      <th>depart</th>\n",
       "      <th>dewpoint</th>\n",
       "      <th>wetbulb</th>\n",
       "      <th>heat</th>\n",
       "      <th>cool</th>\n",
       "      <th>...</th>\n",
       "      <th>codesum</th>\n",
       "      <th>depth</th>\n",
       "      <th>water1</th>\n",
       "      <th>snowfall</th>\n",
       "      <th>preciptotal</th>\n",
       "      <th>stnpressure</th>\n",
       "      <th>sealevel</th>\n",
       "      <th>resultspeed</th>\n",
       "      <th>resultdir</th>\n",
       "      <th>avgspeed</th>\n",
       "    </tr>\n",
       "  </thead>\n",
       "  <tbody>\n",
       "    <tr>\n",
       "      <th>7</th>\n",
       "      <td>2</td>\n",
       "      <td>2007-05-04</td>\n",
       "      <td>78</td>\n",
       "      <td>51</td>\n",
       "      <td>65</td>\n",
       "      <td>M</td>\n",
       "      <td>42</td>\n",
       "      <td>50</td>\n",
       "      <td>M</td>\n",
       "      <td>M</td>\n",
       "      <td>...</td>\n",
       "      <td></td>\n",
       "      <td>M</td>\n",
       "      <td>M</td>\n",
       "      <td>M</td>\n",
       "      <td>0.00</td>\n",
       "      <td>29.36</td>\n",
       "      <td>30.04</td>\n",
       "      <td>10.1</td>\n",
       "      <td>7</td>\n",
       "      <td>10.4</td>\n",
       "    </tr>\n",
       "    <tr>\n",
       "      <th>505</th>\n",
       "      <td>2</td>\n",
       "      <td>2008-07-08</td>\n",
       "      <td>86</td>\n",
       "      <td>46</td>\n",
       "      <td>66</td>\n",
       "      <td>M</td>\n",
       "      <td>68</td>\n",
       "      <td>71</td>\n",
       "      <td>M</td>\n",
       "      <td>M</td>\n",
       "      <td>...</td>\n",
       "      <td>TS RA</td>\n",
       "      <td>M</td>\n",
       "      <td>M</td>\n",
       "      <td>M</td>\n",
       "      <td>0.28</td>\n",
       "      <td>29.16</td>\n",
       "      <td>29.80</td>\n",
       "      <td>7.4</td>\n",
       "      <td>24</td>\n",
       "      <td>8.3</td>\n",
       "    </tr>\n",
       "    <tr>\n",
       "      <th>675</th>\n",
       "      <td>2</td>\n",
       "      <td>2008-10-01</td>\n",
       "      <td>62</td>\n",
       "      <td>46</td>\n",
       "      <td>54</td>\n",
       "      <td>M</td>\n",
       "      <td>41</td>\n",
       "      <td>47</td>\n",
       "      <td>M</td>\n",
       "      <td>M</td>\n",
       "      <td>...</td>\n",
       "      <td></td>\n",
       "      <td>M</td>\n",
       "      <td>M</td>\n",
       "      <td>M</td>\n",
       "      <td>0.00</td>\n",
       "      <td>29.30</td>\n",
       "      <td>29.96</td>\n",
       "      <td>10.9</td>\n",
       "      <td>33</td>\n",
       "      <td>11.0</td>\n",
       "    </tr>\n",
       "    <tr>\n",
       "      <th>1637</th>\n",
       "      <td>2</td>\n",
       "      <td>2011-07-22</td>\n",
       "      <td>100</td>\n",
       "      <td>71</td>\n",
       "      <td>86</td>\n",
       "      <td>M</td>\n",
       "      <td>70</td>\n",
       "      <td>74</td>\n",
       "      <td>M</td>\n",
       "      <td>M</td>\n",
       "      <td>...</td>\n",
       "      <td>TS TSRA BR</td>\n",
       "      <td>M</td>\n",
       "      <td>M</td>\n",
       "      <td>M</td>\n",
       "      <td>0.14</td>\n",
       "      <td>29.23</td>\n",
       "      <td>29.86</td>\n",
       "      <td>3.8</td>\n",
       "      <td>10</td>\n",
       "      <td>8.2</td>\n",
       "    </tr>\n",
       "    <tr>\n",
       "      <th>2067</th>\n",
       "      <td>2</td>\n",
       "      <td>2012-08-22</td>\n",
       "      <td>84</td>\n",
       "      <td>72</td>\n",
       "      <td>78</td>\n",
       "      <td>M</td>\n",
       "      <td>51</td>\n",
       "      <td>61</td>\n",
       "      <td>M</td>\n",
       "      <td>M</td>\n",
       "      <td>...</td>\n",
       "      <td></td>\n",
       "      <td>M</td>\n",
       "      <td>M</td>\n",
       "      <td>M</td>\n",
       "      <td>0.00</td>\n",
       "      <td>29.39</td>\n",
       "      <td>M</td>\n",
       "      <td>4.7</td>\n",
       "      <td>19</td>\n",
       "      <td>M</td>\n",
       "    </tr>\n",
       "  </tbody>\n",
       "</table>\n",
       "<p>5 rows × 22 columns</p>\n",
       "</div>"
      ],
      "text/plain": [
       "      station        date  tmax  tmin  tavg depart  dewpoint wetbulb heat  \\\n",
       "7           2  2007-05-04    78    51    65      M        42      50    M   \n",
       "505         2  2008-07-08    86    46    66      M        68      71    M   \n",
       "675         2  2008-10-01    62    46    54      M        41      47    M   \n",
       "1637        2  2011-07-22   100    71    86      M        70      74    M   \n",
       "2067        2  2012-08-22    84    72    78      M        51      61    M   \n",
       "\n",
       "     cool  ...     codesum depth water1 snowfall preciptotal stnpressure  \\\n",
       "7       M  ...                 M      M        M        0.00       29.36   \n",
       "505     M  ...       TS RA     M      M        M        0.28       29.16   \n",
       "675     M  ...                 M      M        M        0.00       29.30   \n",
       "1637    M  ...  TS TSRA BR     M      M        M        0.14       29.23   \n",
       "2067    M  ...                 M      M        M        0.00       29.39   \n",
       "\n",
       "     sealevel resultspeed resultdir  avgspeed  \n",
       "7       30.04        10.1         7      10.4  \n",
       "505     29.80         7.4        24       8.3  \n",
       "675     29.96        10.9        33      11.0  \n",
       "1637    29.86         3.8        10       8.2  \n",
       "2067        M         4.7        19         M  \n",
       "\n",
       "[5 rows x 22 columns]"
      ]
     },
     "execution_count": 22,
     "metadata": {},
     "output_type": "execute_result"
    }
   ],
   "source": [
    "# Check the missing values in heat and cool\n",
    "weather_df[(weather_df.heat == 'M') & (weather_df.cool == 'M')].head()"
   ]
  },
  {
   "cell_type": "code",
   "execution_count": 23,
   "metadata": {},
   "outputs": [],
   "source": [
    "# To calculate the heat and cool using tavg\n",
    "for index, item in enumerate(weather_df.tavg):\n",
    "    if (weather_df.heat[index] == 'M') & (weather_df.cool[index] == 'M'):\n",
    "        if item>= 65:\n",
    "            difference_cool = weather_df.tavg[index] - 65\n",
    "            weather_df.loc[[index], [\"cool\"]] = difference_cool\n",
    "            weather_df.loc[[index], ['heat']] = 0\n",
    "        else:\n",
    "            difference_heat = 65 - weather_df.tavg[index]\n",
    "            weather_df.loc[[index], [\"cool\"]] = 0\n",
    "            weather_df.loc[[index], ['heat']] = difference_heat"
   ]
  },
  {
   "cell_type": "code",
   "execution_count": 24,
   "metadata": {
    "scrolled": true
   },
   "outputs": [
    {
     "data": {
      "text/html": [
       "<div>\n",
       "<style scoped>\n",
       "    .dataframe tbody tr th:only-of-type {\n",
       "        vertical-align: middle;\n",
       "    }\n",
       "\n",
       "    .dataframe tbody tr th {\n",
       "        vertical-align: top;\n",
       "    }\n",
       "\n",
       "    .dataframe thead th {\n",
       "        text-align: right;\n",
       "    }\n",
       "</style>\n",
       "<table border=\"1\" class=\"dataframe\">\n",
       "  <thead>\n",
       "    <tr style=\"text-align: right;\">\n",
       "      <th></th>\n",
       "      <th>tavg</th>\n",
       "      <th>heat</th>\n",
       "      <th>cool</th>\n",
       "    </tr>\n",
       "  </thead>\n",
       "  <tbody>\n",
       "    <tr>\n",
       "      <th>7</th>\n",
       "      <td>65</td>\n",
       "      <td>0</td>\n",
       "      <td>0</td>\n",
       "    </tr>\n",
       "    <tr>\n",
       "      <th>505</th>\n",
       "      <td>66</td>\n",
       "      <td>0</td>\n",
       "      <td>1</td>\n",
       "    </tr>\n",
       "    <tr>\n",
       "      <th>675</th>\n",
       "      <td>54</td>\n",
       "      <td>11</td>\n",
       "      <td>0</td>\n",
       "    </tr>\n",
       "    <tr>\n",
       "      <th>1637</th>\n",
       "      <td>86</td>\n",
       "      <td>0</td>\n",
       "      <td>21</td>\n",
       "    </tr>\n",
       "    <tr>\n",
       "      <th>2067</th>\n",
       "      <td>78</td>\n",
       "      <td>0</td>\n",
       "      <td>13</td>\n",
       "    </tr>\n",
       "    <tr>\n",
       "      <th>2211</th>\n",
       "      <td>57</td>\n",
       "      <td>8</td>\n",
       "      <td>0</td>\n",
       "    </tr>\n",
       "    <tr>\n",
       "      <th>2501</th>\n",
       "      <td>72</td>\n",
       "      <td>0</td>\n",
       "      <td>7</td>\n",
       "    </tr>\n",
       "    <tr>\n",
       "      <th>2511</th>\n",
       "      <td>69</td>\n",
       "      <td>0</td>\n",
       "      <td>4</td>\n",
       "    </tr>\n",
       "    <tr>\n",
       "      <th>2525</th>\n",
       "      <td>62</td>\n",
       "      <td>3</td>\n",
       "      <td>0</td>\n",
       "    </tr>\n",
       "    <tr>\n",
       "      <th>2579</th>\n",
       "      <td>64</td>\n",
       "      <td>1</td>\n",
       "      <td>0</td>\n",
       "    </tr>\n",
       "    <tr>\n",
       "      <th>2811</th>\n",
       "      <td>68</td>\n",
       "      <td>0</td>\n",
       "      <td>3</td>\n",
       "    </tr>\n",
       "  </tbody>\n",
       "</table>\n",
       "</div>"
      ],
      "text/plain": [
       "      tavg heat cool\n",
       "7       65    0    0\n",
       "505     66    0    1\n",
       "675     54   11    0\n",
       "1637    86    0   21\n",
       "2067    78    0   13\n",
       "2211    57    8    0\n",
       "2501    72    0    7\n",
       "2511    69    0    4\n",
       "2525    62    3    0\n",
       "2579    64    1    0\n",
       "2811    68    0    3"
      ]
     },
     "execution_count": 24,
     "metadata": {},
     "output_type": "execute_result"
    }
   ],
   "source": [
    "# To check the values for missing values\n",
    "weather_df.loc[[7, 505, 675, 1637, 2067, 2211, 2501, 2511, 2525, 2579, 2811], [\"tavg\", 'heat', 'cool']]"
   ]
  },
  {
   "cell_type": "code",
   "execution_count": 25,
   "metadata": {},
   "outputs": [
    {
     "name": "stdout",
     "output_type": "stream",
     "text": [
      "The dtype of heat is : int32.\n",
      "The dtype of cool is : int32.\n"
     ]
    }
   ],
   "source": [
    "# Convert heat and cool dtype to int\n",
    "weather_df.heat = weather_df.heat.astype(int)\n",
    "weather_df.cool = weather_df.cool.astype(int)\n",
    "print(f\"The dtype of heat is : {weather_df.heat.dtype}.\")\n",
    "print(f\"The dtype of cool is : {weather_df.cool.dtype}.\")"
   ]
  },
  {
   "cell_type": "markdown",
   "metadata": {},
   "source": [
    "### 2.3.4.3 water1"
   ]
  },
  {
   "cell_type": "code",
   "execution_count": 26,
   "metadata": {},
   "outputs": [
    {
     "name": "stdout",
     "output_type": "stream",
     "text": [
      " The missing data in water1 column is 2944\n",
      " The number of weather_data rows is 2944\n"
     ]
    }
   ],
   "source": [
    "print(f\" The missing data in water1 column is {weather_df.water1.isnull().count()}\")\n",
    "print(f\" The number of weather_data rows is {weather_df.shape[0]}\")"
   ]
  },
  {
   "cell_type": "markdown",
   "metadata": {},
   "source": [
    "**Analysis: water1 column has no information (all missing data). Thus, this column will be removed.**"
   ]
  },
  {
   "cell_type": "code",
   "execution_count": 27,
   "metadata": {},
   "outputs": [
    {
     "data": {
      "text/plain": [
       "Index(['station', 'date', 'tmax', 'tmin', 'tavg', 'depart', 'dewpoint',\n",
       "       'wetbulb', 'heat', 'cool', 'sunrise', 'sunset', 'codesum', 'depth',\n",
       "       'snowfall', 'preciptotal', 'stnpressure', 'sealevel', 'resultspeed',\n",
       "       'resultdir', 'avgspeed'],\n",
       "      dtype='object')"
      ]
     },
     "execution_count": 27,
     "metadata": {},
     "output_type": "execute_result"
    }
   ],
   "source": [
    "weather_df = weather_df.drop(\"water1\", axis = 1)\n",
    "weather_df.columns"
   ]
  },
  {
   "cell_type": "markdown",
   "metadata": {},
   "source": [
    "**Analysis: water1 column have been removed and is not present in the weather_df.**"
   ]
  },
  {
   "cell_type": "markdown",
   "metadata": {},
   "source": [
    "### 2.3.4.4 depart"
   ]
  },
  {
   "cell_type": "code",
   "execution_count": 28,
   "metadata": {
    "scrolled": false
   },
   "outputs": [
    {
     "data": {
      "text/plain": [
       "depart      0\n",
       "depth       0\n",
       "snowfall    0\n",
       "sunset      0\n",
       "sunrise     0\n",
       "dtype: int64"
      ]
     },
     "execution_count": 28,
     "metadata": {},
     "output_type": "execute_result"
    }
   ],
   "source": [
    "# Missing data in station 1\n",
    "weather_df[(weather_df.station == 1) & (weather_df.depart == 'M')][[\"depart\", \"depth\", \"snowfall\", \"sunset\", \"sunrise\"]].count()"
   ]
  },
  {
   "cell_type": "code",
   "execution_count": 29,
   "metadata": {
    "scrolled": false
   },
   "outputs": [
    {
     "data": {
      "text/plain": [
       "depart      1472\n",
       "depth       1472\n",
       "snowfall    1472\n",
       "sunset      1472\n",
       "sunrise     1472\n",
       "dtype: int64"
      ]
     },
     "execution_count": 29,
     "metadata": {},
     "output_type": "execute_result"
    }
   ],
   "source": [
    "# Missing data in station 2\n",
    "weather_df[(weather_df.station == 2) & (weather_df.depart == 'M')][[\"depart\", \"depth\", \"snowfall\", \"sunset\", \"sunrise\"]].count()"
   ]
  },
  {
   "cell_type": "markdown",
   "metadata": {},
   "source": [
    "**Analysis: Depart,depth, snowfall, sunset and sunrise columns will be removed. The missing data for these columns lie in station 2.**\n",
    "* **Depart**\n",
    "\n",
    "station 2 has no information on column depart. As depart means departure from normal, which is the difference between average temperature and the 30 year normal temperature for this date. As depart column will not be used in our analysis, we will be removed this column.\n",
    "\n",
    "\n",
    "* **Depth**\n",
    "\n",
    "Depth column has missing data or zero. Thus, this column will be removed.\n",
    "\n",
    "* **Snowfall, sunset and sunrise**\n",
    "\n",
    "As snowfall, sunset and sunrise columns will not be used in our analysis, we will be removed this column."
   ]
  },
  {
   "cell_type": "code",
   "execution_count": 30,
   "metadata": {},
   "outputs": [],
   "source": [
    "# Drop depart, depth, snowfall, sunset, sunrise\n",
    "weather_df = weather_df.drop([\"depart\", \"depth\", \"snowfall\", \"sunset\", \"sunrise\"], axis = 1)"
   ]
  },
  {
   "cell_type": "code",
   "execution_count": 31,
   "metadata": {},
   "outputs": [
    {
     "data": {
      "text/plain": [
       "Index(['station', 'date', 'tmax', 'tmin', 'tavg', 'dewpoint', 'wetbulb',\n",
       "       'heat', 'cool', 'codesum', 'preciptotal', 'stnpressure', 'sealevel',\n",
       "       'resultspeed', 'resultdir', 'avgspeed'],\n",
       "      dtype='object')"
      ]
     },
     "execution_count": 31,
     "metadata": {},
     "output_type": "execute_result"
    }
   ],
   "source": [
    "weather_df.columns"
   ]
  },
  {
   "cell_type": "markdown",
   "metadata": {},
   "source": [
    "**Analysis: Depart,depth, snowfall, sunset and sunrise columns have been removed and are not present in the weather_df.**"
   ]
  },
  {
   "cell_type": "markdown",
   "metadata": {},
   "source": [
    "### 2.3.4.5 sealevel, stnpressure, wetbulb, avgspeed, preciptotal"
   ]
  },
  {
   "cell_type": "code",
   "execution_count": 32,
   "metadata": {},
   "outputs": [
    {
     "data": {
      "text/plain": [
       "sealevel       9\n",
       "stnpressure    4\n",
       "wetbulb        4\n",
       "avgspeed       3\n",
       "preciptotal    2\n",
       "dtype: int64"
      ]
     },
     "execution_count": 32,
     "metadata": {},
     "output_type": "execute_result"
    }
   ],
   "source": [
    "# To check the missing values\n",
    "weather_df[weather_df == 'M'].count()[[\"sealevel\", \"stnpressure\", \"wetbulb\", \"avgspeed\", 'preciptotal']]"
   ]
  },
  {
   "cell_type": "markdown",
   "metadata": {},
   "source": [
    "**Analysis: As these values are missing data, these values will be dropped.**"
   ]
  },
  {
   "cell_type": "code",
   "execution_count": 33,
   "metadata": {},
   "outputs": [],
   "source": [
    "# Drop the rows with missing values\n",
    "weather_df = weather_df[weather_df.sealevel != 'M']\n",
    "weather_df = weather_df[weather_df.stnpressure != 'M']\n",
    "weather_df = weather_df[weather_df.wetbulb != 'M']\n",
    "weather_df = weather_df[weather_df.avgspeed != 'M']\n",
    "weather_df = weather_df[weather_df.preciptotal != 'M']"
   ]
  },
  {
   "cell_type": "code",
   "execution_count": 34,
   "metadata": {},
   "outputs": [
    {
     "data": {
      "text/plain": [
       "sealevel       0\n",
       "stnpressure    0\n",
       "wetbulb        0\n",
       "avgspeed       0\n",
       "preciptotal    0\n",
       "dtype: int64"
      ]
     },
     "execution_count": 34,
     "metadata": {},
     "output_type": "execute_result"
    }
   ],
   "source": [
    "# To check the presence of missing values\n",
    "weather_df[weather_df == 'M'].count()[[\"sealevel\", \"stnpressure\", \"wetbulb\", \"avgspeed\", 'preciptotal']]"
   ]
  },
  {
   "cell_type": "markdown",
   "metadata": {},
   "source": [
    "**Analysis: The values have been removed and there is no missing values for sealevel, stnpressure, wetbulb, avgspeed, and preciptotal. The values will be converted into dtype float/int in the next section.**"
   ]
  },
  {
   "cell_type": "markdown",
   "metadata": {},
   "source": [
    "### 2.3.4.6 Change the trace value in preciptotal to integer"
   ]
  },
  {
   "cell_type": "code",
   "execution_count": 35,
   "metadata": {
    "scrolled": false
   },
   "outputs": [
    {
     "data": {
      "text/plain": [
       "array(['0.00', '  T', '0.13', '0.02', '0.38', '0.60', '0.14', '0.07',\n",
       "       '0.11', '0.09', '1.01', '0.28', '0.04', '0.08', '0.01', '0.53',\n",
       "       '0.19', '0.21', '0.32', '0.39', '0.31', '0.42', '0.27', '0.16',\n",
       "       '0.58', '0.93', '0.05', '0.34', '0.15', '0.35', '0.40', '0.66',\n",
       "       '0.30', '0.24', '0.43', '1.55', '0.92', '0.89', '0.17', '0.03',\n",
       "       '1.43', '0.97', '0.26', '1.31', '0.06', '0.46', '0.29', '0.23',\n",
       "       '0.41', '0.45', '0.83', '1.33', '0.91', '0.48', '0.37', '0.88',\n",
       "       '2.35', '1.96', '0.20', '0.25', '0.18', '0.67', '0.36', '0.33',\n",
       "       '1.28', '0.74', '0.76', '0.71', '0.95', '1.46', '0.12', '0.52',\n",
       "       '0.64', '0.22', '1.24', '0.72', '0.73', '0.65', '1.61', '1.22',\n",
       "       '0.50', '1.05', '2.43', '0.59', '2.90', '2.68', '1.23', '0.62',\n",
       "       '6.64', '3.07', '1.44', '1.75', '0.82', '0.80', '0.86', '0.63',\n",
       "       '0.55', '1.03', '0.70', '1.73', '1.38', '0.44', '1.14', '1.07',\n",
       "       '3.97', '0.87', '0.78', '1.12', '0.68', '0.10', '0.61', '0.54',\n",
       "       '1.19', '0.75', '0.84', '1.29', '0.81', '1.15', '1.49', '1.57',\n",
       "       '1.02', '1.30', '0.51', '0.85', '0.79', '0.77', '2.79', '3.15',\n",
       "       '3.64', '4.73', '1.60', '0.57', '2.24', '1.90', '1.06', '1.88',\n",
       "       '0.69', '2.17', '6.86', '0.49', '1.11', '1.21', '0.90', '1.34',\n",
       "       '0.47', '0.56', '3.66', '1.09', '1.25', '1.35', '2.20', '1.48',\n",
       "       '0.96', '1.16', '1.04', '2.03', '2.09', '1.26', '2.60', '2.06',\n",
       "       '3.31', '2.76', '1.82', '0.98', '1.58', '3.17', '1.18'],\n",
       "      dtype=object)"
      ]
     },
     "execution_count": 35,
     "metadata": {},
     "output_type": "execute_result"
    }
   ],
   "source": [
    "# To check the trace value in preciptotal\n",
    "weather_df.preciptotal.unique()"
   ]
  },
  {
   "cell_type": "markdown",
   "metadata": {},
   "source": [
    "**Analysis: The trace value will be changed to zero 0.00**\n",
    "\n",
    "As the trace value is between 0.00 to 0.01, thus we will place the trace value as \"0.00'. The values will be converted to dtype float."
   ]
  },
  {
   "cell_type": "code",
   "execution_count": 36,
   "metadata": {},
   "outputs": [],
   "source": [
    "# To replace the trace value (\"  T\") as 0.00\n",
    "weather_df.preciptotal = weather_df.preciptotal.replace('  T', \"0.00\")"
   ]
  },
  {
   "cell_type": "code",
   "execution_count": 37,
   "metadata": {},
   "outputs": [
    {
     "name": "stdout",
     "output_type": "stream",
     "text": [
      "The dtype of sealevel is : float64.\n",
      "The dtype of stnpressure is : float64.\n",
      "The dtype of wetbulb is : int32.\n",
      "The dtype of avgspeed is : float64.\n",
      "The dtype of preciptotal is : float64.\n"
     ]
    }
   ],
   "source": [
    "# Convert sealevel, stnpressure, wetbulb, avgspeed, preciptotal dtype to int\n",
    "weather_df.sealevel = weather_df.sealevel.astype(float)\n",
    "weather_df.stnpressure = weather_df.stnpressure.astype(float)\n",
    "weather_df.wetbulb = weather_df.wetbulb.astype(int)\n",
    "weather_df.avgspeed = weather_df.avgspeed.astype(float)\n",
    "weather_df.preciptotal = weather_df.preciptotal.astype(float)\n",
    "print(f\"The dtype of sealevel is : {weather_df.sealevel.dtype}.\")\n",
    "print(f\"The dtype of stnpressure is : {weather_df.stnpressure.dtype}.\")\n",
    "print(f\"The dtype of wetbulb is : {weather_df.wetbulb.dtype}.\")\n",
    "print(f\"The dtype of avgspeed is : {weather_df.avgspeed.dtype}.\")\n",
    "print(f\"The dtype of preciptotal is : {weather_df.preciptotal.dtype}.\")"
   ]
  },
  {
   "cell_type": "markdown",
   "metadata": {},
   "source": [
    "**Analysis: The dtype for sealevel, stnpressure, wetbulb, avgspeed and preciptotal columns has been converted to float/int.**"
   ]
  },
  {
   "cell_type": "markdown",
   "metadata": {},
   "source": [
    "### 2.3.4.7 To verify the presence of missing values and dtypes"
   ]
  },
  {
   "cell_type": "code",
   "execution_count": 38,
   "metadata": {},
   "outputs": [
    {
     "name": "stdout",
     "output_type": "stream",
     "text": [
      "<class 'pandas.core.frame.DataFrame'>\n",
      "Int64Index: 2928 entries, 0 to 2943\n",
      "Data columns (total 16 columns):\n",
      " #   Column       Non-Null Count  Dtype  \n",
      "---  ------       --------------  -----  \n",
      " 0   station      2928 non-null   int64  \n",
      " 1   date         2928 non-null   object \n",
      " 2   tmax         2928 non-null   int64  \n",
      " 3   tmin         2928 non-null   int64  \n",
      " 4   tavg         2928 non-null   int32  \n",
      " 5   dewpoint     2928 non-null   int64  \n",
      " 6   wetbulb      2928 non-null   int32  \n",
      " 7   heat         2928 non-null   int32  \n",
      " 8   cool         2928 non-null   int32  \n",
      " 9   codesum      2928 non-null   object \n",
      " 10  preciptotal  2928 non-null   float64\n",
      " 11  stnpressure  2928 non-null   float64\n",
      " 12  sealevel     2928 non-null   float64\n",
      " 13  resultspeed  2928 non-null   float64\n",
      " 14  resultdir    2928 non-null   int64  \n",
      " 15  avgspeed     2928 non-null   float64\n",
      "dtypes: float64(5), int32(4), int64(5), object(2)\n",
      "memory usage: 343.1+ KB\n"
     ]
    }
   ],
   "source": [
    "# To verify the presence of missing values and dtypes\n",
    "weather_df.info()"
   ]
  },
  {
   "cell_type": "markdown",
   "metadata": {},
   "source": [
    "**Analysis: There are no missing values and the dtype for each numerical column has been converted. The date dtype will be converted to datatime in exploratory data analysis section.**"
   ]
  },
  {
   "cell_type": "markdown",
   "metadata": {},
   "source": [
    "### 2.3.5 Missing values and dtypes of spray_df"
   ]
  },
  {
   "cell_type": "markdown",
   "metadata": {},
   "source": [
    "### 2.3.5.1 Missing values in time column"
   ]
  },
  {
   "cell_type": "code",
   "execution_count": 39,
   "metadata": {
    "scrolled": true
   },
   "outputs": [
    {
     "data": {
      "text/plain": [
       "array(['2011-08-29', '2011-09-07', '2013-07-17', '2013-07-25',\n",
       "       '2013-08-08', '2013-08-15', '2013-08-16', '2013-08-22',\n",
       "       '2013-08-29', '2013-09-05'], dtype=object)"
      ]
     },
     "execution_count": 39,
     "metadata": {},
     "output_type": "execute_result"
    }
   ],
   "source": [
    "# The different dates present in spray_df\n",
    "spray_df.date.unique()"
   ]
  },
  {
   "cell_type": "code",
   "execution_count": 40,
   "metadata": {},
   "outputs": [
    {
     "data": {
      "text/plain": [
       "array(['2011-09-07'], dtype=object)"
      ]
     },
     "execution_count": 40,
     "metadata": {},
     "output_type": "execute_result"
    }
   ],
   "source": [
    "# Missing values in spray_df falls on 2011-09-07\n",
    "spray_df[spray_df.time.isnull()].date.unique()"
   ]
  },
  {
   "cell_type": "markdown",
   "metadata": {},
   "source": [
    "**Analysis: Missing values only fall on 2011-09-07. As time column will not be used for analysis, this column will be removed.**"
   ]
  },
  {
   "cell_type": "code",
   "execution_count": 41,
   "metadata": {},
   "outputs": [
    {
     "data": {
      "text/plain": [
       "Index(['date', 'latitude', 'longitude'], dtype='object')"
      ]
     },
     "execution_count": 41,
     "metadata": {},
     "output_type": "execute_result"
    }
   ],
   "source": [
    "# Drop the time column\n",
    "spray_df = spray_df.drop('time', axis = 1)\n",
    "spray_df.columns"
   ]
  },
  {
   "cell_type": "markdown",
   "metadata": {},
   "source": [
    "**Analysis: The time column has been removed.**"
   ]
  },
  {
   "cell_type": "markdown",
   "metadata": {},
   "source": [
    "### 2.3.5.2 Spray locations in spray_df \n",
    "\n",
    "To verify the spray locations are within the range of traps locations.\n",
    "Any spray locations that are not within the range will be considered outliers and be removed."
   ]
  },
  {
   "cell_type": "code",
   "execution_count": 42,
   "metadata": {},
   "outputs": [
    {
     "data": {
      "image/png": "[encoded data removed]",
      "text/plain": [
       "<Figure size 1080x1440 with 1 Axes>"
      ]
     },
     "metadata": {
      "needs_background": "light"
     },
     "output_type": "display_data"
    }
   ],
   "source": [
    "aspect = mapdata.shape[0] * 1.0 / mapdata.shape[1]\n",
    "lon_lat_box = (-87.96, -87.5, 41.63, 42.03)\n",
    "\n",
    "plt.figure(figsize=(15,20))\n",
    "plt.imshow(mapdata, \n",
    "           cmap=plt.get_cmap('gray'), \n",
    "           extent=lon_lat_box, \n",
    "           aspect=aspect)\n",
    "\n",
    "spray_locs = spray_df[['longitude', 'latitude']].drop_duplicates().values\n",
    "trap_locs = train_df[['longitude', 'latitude']].drop_duplicates().values\n",
    "\n",
    "plt.scatter(spray_locs[:,0], spray_locs[:,1], marker='+', c='b',s=1, label = 'spray')\n",
    "plt.scatter(trap_locs[:,0], trap_locs[:,1], marker='o', c='r',s=10, label = 'traps')\n",
    "plt.scatter([-87.933], [41.995], marker='x', c='orange', s = 50, label = 'station 1')\n",
    "plt.scatter([-87.752], [41.786], marker='x', c='g', s = 50, label = 'station 2')\n",
    "plt.legend(loc='upper right')\n",
    "plt.savefig('../imgs/map1.png')\n",
    "plt.show()"
   ]
  },
  {
   "cell_type": "markdown",
   "metadata": {},
   "source": [
    "**Analysis: There are spray locations which are very far away from the traps and the other spray locations. These will be considered outliers and removed.**"
   ]
  },
  {
   "cell_type": "code",
   "execution_count": 43,
   "metadata": {},
   "outputs": [],
   "source": [
    "# Drop spray outliers in spray_df\n",
    "spray_df.drop(index=spray_df[spray_df.latitude > 42.1].index, inplace=True)"
   ]
  },
  {
   "cell_type": "code",
   "execution_count": 44,
   "metadata": {},
   "outputs": [
    {
     "data": {
      "text/html": [
       "<div>\n",
       "<style scoped>\n",
       "    .dataframe tbody tr th:only-of-type {\n",
       "        vertical-align: middle;\n",
       "    }\n",
       "\n",
       "    .dataframe tbody tr th {\n",
       "        vertical-align: top;\n",
       "    }\n",
       "\n",
       "    .dataframe thead th {\n",
       "        text-align: right;\n",
       "    }\n",
       "</style>\n",
       "<table border=\"1\" class=\"dataframe\">\n",
       "  <thead>\n",
       "    <tr style=\"text-align: right;\">\n",
       "      <th></th>\n",
       "      <th>latitude</th>\n",
       "      <th>longitude</th>\n",
       "    </tr>\n",
       "  </thead>\n",
       "  <tbody>\n",
       "    <tr>\n",
       "      <th>count</th>\n",
       "      <td>14740.000000</td>\n",
       "      <td>14740.000000</td>\n",
       "    </tr>\n",
       "    <tr>\n",
       "      <th>mean</th>\n",
       "      <td>41.901686</td>\n",
       "      <td>-87.734391</td>\n",
       "    </tr>\n",
       "    <tr>\n",
       "      <th>std</th>\n",
       "      <td>0.097077</td>\n",
       "      <td>0.061091</td>\n",
       "    </tr>\n",
       "    <tr>\n",
       "      <th>min</th>\n",
       "      <td>41.713925</td>\n",
       "      <td>-87.871023</td>\n",
       "    </tr>\n",
       "    <tr>\n",
       "      <th>25%</th>\n",
       "      <td>41.784533</td>\n",
       "      <td>-87.794148</td>\n",
       "    </tr>\n",
       "    <tr>\n",
       "      <th>50%</th>\n",
       "      <td>41.939643</td>\n",
       "      <td>-87.727195</td>\n",
       "    </tr>\n",
       "    <tr>\n",
       "      <th>75%</th>\n",
       "      <td>41.980335</td>\n",
       "      <td>-87.693871</td>\n",
       "    </tr>\n",
       "    <tr>\n",
       "      <th>max</th>\n",
       "      <td>42.018907</td>\n",
       "      <td>-87.586727</td>\n",
       "    </tr>\n",
       "  </tbody>\n",
       "</table>\n",
       "</div>"
      ],
      "text/plain": [
       "           latitude     longitude\n",
       "count  14740.000000  14740.000000\n",
       "mean      41.901686    -87.734391\n",
       "std        0.097077      0.061091\n",
       "min       41.713925    -87.871023\n",
       "25%       41.784533    -87.794148\n",
       "50%       41.939643    -87.727195\n",
       "75%       41.980335    -87.693871\n",
       "max       42.018907    -87.586727"
      ]
     },
     "execution_count": 44,
     "metadata": {},
     "output_type": "execute_result"
    }
   ],
   "source": [
    "# To verify the removal of outliers that lies beyond latitude > 42.1\n",
    "spray_df.describe()"
   ]
  },
  {
   "cell_type": "markdown",
   "metadata": {},
   "source": [
    "**Analysis: The maximum latitude in spray_df is less than 42.1. The outliers in spray_df has been removed.**"
   ]
  },
  {
   "cell_type": "markdown",
   "metadata": {},
   "source": [
    "#### 2.3.4.2.3 To verify the presence of missing values and dtypes"
   ]
  },
  {
   "cell_type": "code",
   "execution_count": 45,
   "metadata": {},
   "outputs": [
    {
     "name": "stdout",
     "output_type": "stream",
     "text": [
      "<class 'pandas.core.frame.DataFrame'>\n",
      "Int64Index: 14740 entries, 95 to 14834\n",
      "Data columns (total 3 columns):\n",
      " #   Column     Non-Null Count  Dtype  \n",
      "---  ------     --------------  -----  \n",
      " 0   date       14740 non-null  object \n",
      " 1   latitude   14740 non-null  float64\n",
      " 2   longitude  14740 non-null  float64\n",
      "dtypes: float64(2), object(1)\n",
      "memory usage: 460.6+ KB\n"
     ]
    }
   ],
   "source": [
    "# To verify the missing values and dtypes\n",
    "spray_df.info()"
   ]
  },
  {
   "cell_type": "markdown",
   "metadata": {},
   "source": [
    "**Analysis: There are no missing values. The date dtype will be converted to datatime in exploratory data analysis section.**"
   ]
  },
  {
   "cell_type": "markdown",
   "metadata": {},
   "source": [
    "## 2.4. Summary"
   ]
  },
  {
   "cell_type": "markdown",
   "metadata": {},
   "source": [
    "**Summary**\n",
    "\n",
    "**For train_df, test_df, weather_df and spray_df:**\n",
    "* The column names have been changed to lower case.\n",
    "* The date dtype will be converted to datetime in exploratory data analysis section.\n",
    "\n",
    "**For train_df and test_df:**\n",
    "* There are no missing values. The selected columns have been dropped and the column values have been changed to lower case.\n",
    "\n",
    "**For weather_df:**\n",
    "* The missing values are indicated as 'M' and '-'.\n",
    "* The missing values in tavg, heat and cool columns have been calculated.\n",
    "* The water1, depart, depth, snowfall, sunset, sunrise columns have been removed as majority has missing values or these columns will not be used in our analysis.\n",
    "* The missing values in sealevel, stnpressure, wetbulb, avgspeed and preciptotal have been removed.\n",
    "* The trace value in preciptotal in has been converted to 0.00.\n",
    "* The numerical columns have been converted to int/float dtype.\n",
    "\n",
    "**For spray_df:**\n",
    "* The time column will not be used in our analysis and has been removed.\n",
    "* There are spray locations that are beyond the trap locations and have been removed."
   ]
  },
  {
   "cell_type": "markdown",
   "metadata": {},
   "source": [
    "## Exporting Data"
   ]
  },
  {
   "cell_type": "code",
   "execution_count": 49,
   "metadata": {},
   "outputs": [],
   "source": [
    "# # Placed the # to refrain from executing\n",
    "#train_df.to_csv(\"../data/train_df_clean.csv\", index = False)\n",
    "#test_df.to_csv(\"../data/test_df_clean.csv\", index = False)\n",
    "#weather_df.to_csv(\"../data/weather_df_clean.csv\", index = False)\n",
    "#spray_df.to_csv(\"../data/spray_df_clean.csv\", index = False)"
   ]
  },
  {
   "cell_type": "markdown",
   "metadata": {},
   "source": [
    "## References"
   ]
  },
  {
   "cell_type": "markdown",
   "metadata": {},
   "source": [
    "[1] \"West Nile virus disease cases reported to CDC by state of residence, 1999-2019,\" *Centers for Disease Control and Prevention*, November 24, 2020. [Online]. Available: [https://www.cdc.gov/westnile/statsmaps/cumMapsData.html](https://www.cdc.gov/westnile/statsmaps/cumMapsData.html) [Accessed: May. 6, 2021].\n",
    "\n",
    "[2] \"House Mosquitoes,\" *Biogents USA*. [Online]. Available: [https://us.biogents.com/house-mosquitoes/](https://us.biogents.com/house-mosquitoes/) [Accessed: May. 6, 2021].\n",
    "\n",
    "[3] \"West Nile Virus,\" *World Health Organization*, October 03, 2017. [Online]. Available: [https://www.who.int/news-room/fact-sheets/detail/west-nile-virus](https://www.who.int/news-room/fact-sheets/detail/west-nile-virus) [Accessed: May 6, 2021].\n",
    "\n",
    "[4] \"What is West Nile Virus and How Does it Spread?,\" *VDCI A Rentokil Company*, 2021. [Online]. Available: [https://www.vdci.net/vector-borne-diseases/west-nile-virus-education-and-mosquito-management-to-protect-public-health/](https://www.vdci.net/vector-borne-diseases/west-nile-virus-education-and-mosquito-management-to-protect-public-health/) [Accessed: May 6, 2021].\n",
    "\n",
    "[5] \"West Nile Virus,\" *Chicago Department of Public Health Communication Disease Information*, June, 2007. [Online]. Available: [https://www.chicago.gov/dam/city/depts/cdph/comm_dis/general/Communicable_Disease/CD_CDInfo_Jun07_WNV.pdf](https://www.chicago.gov/dam/city/depts/cdph/comm_dis/general/Communicable_Disease/CD_CDInfo_Jun07_WNV.pdf) [Accessed: May 6, 2021].\n",
    "\n",
    "[6] S. Thornton, \"Chicago Turns to Predictive Analytics to Map West Nile Threat,\" *Government Technology*, October 25, 2017. [Online].[https://www.govtech.com/analytics/chicago-turns-to-predictive-analytics-to-map-west-nile-threat.html](https://www.govtech.com/analytics/chicago-turns-to-predictive-analytics-to-map-west-nile-threat.html) [Accessed: May 6, 2021].\n",
    "\n",
    "[7] \"What are Heating and Cooling Degree Days,\" *National Weather Service*. [Online]. Available: [https://www.weather.gov/key/climate_heat_cool#:~:text=If%20the%20temperature%20mean%20is,result%20is%20Heating%20Degree%20Days.&text=Because%20the%20result%20is%20below,F%20%3D%2036%20Heating%20Degree%20Days.](https://www.weather.gov/key/climate_heat_cool#:~:text=If%20the%20temperature%20mean%20is,result%20is%20Heating%20Degree%20Days.&text=Because%20the%20result%20is%20below,F%20%3D%2036%20Heating%20Degree%20Days) [Accessed: May. 1, 2021]."
   ]
  }
 ],
 "metadata": {
  "kernelspec": {
   "display_name": "Python 3",
   "language": "python",
   "name": "python3"
  },
  "language_info": {
   "codemirror_mode": {
    "name": "ipython",
    "version": 3
   },
   "file_extension": ".py",
   "mimetype": "text/x-python",
   "name": "python",
   "nbconvert_exporter": "python",
   "pygments_lexer": "ipython3",
   "version": "3.8.5"
  }
 },
 "nbformat": 4,
 "nbformat_minor": 4
}
