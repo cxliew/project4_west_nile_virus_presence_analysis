{
 "cells": [
  {
   "cell_type": "markdown",
   "metadata": {},
   "source": [
    "# Project 4F: West Nile Virus presence analysis"
   ]
  },
  {
   "cell_type": "markdown",
   "metadata": {},
   "source": [
    "### Overall Contents:\n",
    "- Background\n",
    "- Data Cleaning\n",
    "- Exploratory Data Analysis\n",
    "- Modeling 1 Logistic Regression\n",
    "- Modeling 2 k-Nearest Neighbours\n",
    "- Modeling 3 Random Forest\n",
    "- [Evaluation](#7.-Evaluation)**(In this notebook)**\n",
    "- [Conclusion and Recommendation](#8.-Conclusion) **(In this notebook)**"
   ]
  },
  {
   "cell_type": "markdown",
   "metadata": {},
   "source": [
    "|Model|Pricision Score|Recall Score|F1 Score|AUC Score|\n",
    "|:---|:---|:---|:---|:---|\n",
    "|Logistic Regression|94.0%|94.0%|94.0%|98.0%|\n",
    "|K-Nearest Neighbour|95.5%|95.0%|95.0%|97.0%|\n",
    "|Random Forest Tree|96.0%|96.0%|96.0%|99.0%|"
   ]
  },
  {
   "cell_type": "markdown",
   "metadata": {},
   "source": [
    "## 7. Evaluation"
   ]
  },
  {
   "cell_type": "markdown",
   "metadata": {},
   "source": [
    "Of the 3 Models, we picked Random Forest Tree as our final model. This is becuase not only does it have the highest AUC Score of 99%, it also has the highest F1 Score which is what we based our model performance on.\n",
    "\n",
    "We think Random Forest Tree(RTF) worked best in this situation because there is a requirement of multiple factors occurring in order that may contribute to the population of the mosquitoes, thereby indirectly increasing the probability of WNV presence among them. However, should any one of the factor sequences or groups be broken, it may produce the opposite results instead. RFT is basicly a decision tree, and at the end of each decision tree is the resulting probability of that event happening. While progressing through the depth of the decision tree, a probability of a result happening can swing from one end of the scale to the other end drasticly. \n",
    "\n",
    "Drawing an example, assuming to have mosquitoes around, they must be within an area with sufficent humidity, temperature and little wind, should any of that 3 requirements be unfavourable the probability could drop drasticly. RTF can simulate this scenario but Logistic Regression and KNN are unable to do this. Their probability will still drop but not as much. \n"
   ]
  },
  {
   "cell_type": "markdown",
   "metadata": {},
   "source": [
    "## 7.1 Cost-benefit analysis"
   ]
  },
  {
   "cell_type": "markdown",
   "metadata": {},
   "source": [
    "Chicago is a very large city and at the cost of $500 per spray, it would not make sense to conduct sprays over the entire city. From the data given, there were 4000 sprays done in July and Sep and close to double the amount in Aug as that's when the population is the highest. that would cost an estimated total of $8 million across the 3 months.\n",
    "\n",
    "As we have approx 130 traps around the city, if we can accurately identify locations where the virus is likely to be, and conduct sprays around the area and 9 surrounding locations once a week, even if the model predicts 50% of the trap locations to likely have the virus present, that would still only be approx 8450 sprays over 3 months, or $4.225 million, which is effectively saving slightly less than 50% of the cost.   \n",
    "\n",
    "Hence this prediction model would bring a great cost saving benefit to the department. \n",
    "\n",
    "$500 * 130 traps * 0.5 (50% prediction rate) * 10 locations per trap * 13 weeks (3 months) = $4,225,000"
   ]
  },
  {
   "cell_type": "markdown",
   "metadata": {},
   "source": [
    "## 8. Conclusion"
   ]
  },
  {
   "cell_type": "markdown",
   "metadata": {},
   "source": [
    "In our EDA, we have shown how the number of mosquitoes has a correlation to various weather condition as well as how the impact of spraying pesticide is able to effectively reduce the number of mosquitoes in an area. We engineered additional features which could further help us with our modeling process. \n",
    "\n",
    "We performed 3 different types of modelling process and compared them with each other before finally determing that Random Forest Tree was the best model in this case. We also shown that our model is able to perform accurately to a high degree, performing better than our baseline of 95% accuracy and a high F1 score of 96%.  \n",
    "\n",
    "This means that our model is able to correctly predict if WNV will be found to be present given a location and time based on the weather conditions roughly 96% of the time. The model also manages to keep the false negatives and positives at a minimum, so that population outbreaks are not missed, and efforts are not wasted in spraying locations with less probability of an outbreak.\n",
    "\n",
    "Should our model be implemented as well, our cost benefit analysis suggest that up to 50% of savings can be achieved."
   ]
  },
  {
   "cell_type": "markdown",
   "metadata": {},
   "source": [
    "## 8.1 Recommendations"
   ]
  },
  {
   "cell_type": "markdown",
   "metadata": {},
   "source": [
    "Based off our EDA spraying in an area does help reduce the number of mosquitoes in the area. Thus, our recommendation is to continue to engage regular spraying throughout the period with more frequency around July to August as it has been noted that this is the period where the population of mosquitoes is the highest.\n",
    "\n",
    "Using our model we can predict which locations are more likely to have the virus present and spraying can be concentrated within those areas."
   ]
  },
  {
   "cell_type": "markdown",
   "metadata": {},
   "source": [
    "## 8.2 Future Improvement"
   ]
  },
  {
   "cell_type": "markdown",
   "metadata": {},
   "source": [
    "Some future work that could be done is do a deeper look into the features selected for modeling. One of them could be removing highly correlated features. Another would to be to gather more data on the effects of spray data. Having more data collected will help to combat any overfitting issues."
   ]
  },
  {
   "cell_type": "markdown",
   "metadata": {},
   "source": [
    "## 8.3 Kaggle submission and reflection  \n",
    "\n",
    "Along our main problem statement, we were also aiming to submit our predictions to Kaggle to see how well our model does.  \n",
    "\n",
    "The Kaggle submission involves predicting if WNV will be present based on a \"when\" and a \"where\", which is inline with our problem statement.  \n",
    "\n",
    "However, our goal was not to optimize the model for Kaggle, but instead to optimize for the minimization of false positive and negatives.  \n",
    "\n",
    "Initially, we were not careful in checking what the Kaggle submission was looking for, and we submitted our predictions as a binary classification. This was a lesson well-learned in checking not only the format, but also the type of results our submissions should be in.  \n",
    "  \n",
    "![logreg](../imgs/log_reg_kaggle_cx.png)  \n",
    "\n",
    "**Logistic Regression Kaggle Results - Chin Xia;**  \n",
    "parameters:  \n",
    "{'logreg__C': 0.0001,  \n",
    " 'logreg__max_iter': 7500,  \n",
    " 'logreg__penalty': 'none',  \n",
    " 'logreg__random_state': 42,  \n",
    " 'logreg__solver': 'saga'}  \n",
    "  \n",
    "![knn](../imgs/knn_kaggle_tl.png)  \n",
    "\n",
    "**k-Nearest Neighbours Kaggle Results - Thomas;**  \n",
    "parameters:  \n",
    "{'knn__n_neighbors': [5,10,15,20,30,40],  \n",
    " 'knn__weights' : ['distance','uniform'],  \n",
    " 'knn__p' : [1,2]}  \n",
    "\n",
    "![rfc](../imgs/rfc_kaggle_ct.png)  \n",
    "\n",
    "**Random Forest Kaggle Results - Clarence;**  \n",
    "parameters: \n",
    "{max_features='log2',  \n",
    "n_estimators=125,  \n",
    "random_state=42}\n",
    "\n",
    "  \n",
    "Eventually, we each made submissions to Kaggle based on the models we were in charge of, and it was interesting to see how the best performing model in terms of F1 score was not the best performing model for Kaggle.  \n",
    "\n",
    "This is likely due to some overfitting occurring in the models. Given that the test dataset has a new 'unspecified species' and traps which differ from the training data set, the differences in location and species may have affected most of the models.  \n",
    "\n",
    "It also showed us how optimizing models for Kaggle may not always optimize well for the problem statements we might have on hand.  \n",
    "\n",
    "Overall, the Kaggle submissions were a learning experience for the group."
   ]
  }
 ],
 "metadata": {
  "kernelspec": {
   "display_name": "Python 3",
   "language": "python",
   "name": "python3"
  },
  "language_info": {
   "codemirror_mode": {
    "name": "ipython",
    "version": 3
   },
   "file_extension": ".py",
   "mimetype": "text/x-python",
   "name": "python",
   "nbconvert_exporter": "python",
   "pygments_lexer": "ipython3",
   "version": "3.8.5"
  }
 },
 "nbformat": 4,
 "nbformat_minor": 4
}
